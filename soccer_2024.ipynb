{
  "cells": [
    {
      "cell_type": "code",
      "execution_count": null,
      "id": "55e0d358",
      "metadata": {
        "id": "55e0d358"
      },
      "outputs": [],
      "source": [
        "import pandas as pd\n",
        "import numpy as np\n",
        "import re\n",
        "import math\n",
        "import matplotlib.pyplot as plt\n",
        "from typing import Union, Optional\n",
        "import datetime\n",
        "import japanize_matplotlib\n",
        "from janome.tokenizer import Tokenizer\n",
        "from datetime import datetime, timedelta\n",
        "import urllib\n",
        "import requests\n",
        "import geocoder\n",
        "import seaborn as sns\n",
        "from geopy.geocoders import Nominatim"
      ]
    },
    {
      "cell_type": "code",
      "execution_count": null,
      "id": "23eebcff",
      "metadata": {
        "id": "23eebcff"
      },
      "outputs": [],
      "source": [
        "df_train = pd.read_csv('train.csv')\n",
        "df_test = pd.read_csv('test.csv')\n",
        "df_holidays = pd.read_csv('holidays_in_japan.csv')\n",
        "df_venue = pd.read_csv('venue_information.csv')\n",
        "df_match = pd.read_csv('match_reports.csv')\n",
        "submit = pd.read_csv('submit.csv', header=None)"
      ]
    },
    {
      "cell_type": "code",
      "execution_count": null,
      "id": "b76b080e",
      "metadata": {
        "id": "b76b080e"
      },
      "outputs": [],
      "source": [
        "def merged(df, df_venue):\n",
        "    df = pd.merge(df, df_venue[['venue', 'capacity', 'address']], on='venue', how='left')\n",
        "    return df\n",
        "\n",
        "df_train = merged(df_train, df_venue)\n",
        "df_test = merged(df_test, df_venue)"
      ]
    },
    {
      "cell_type": "code",
      "execution_count": null,
      "id": "d085f389",
      "metadata": {
        "id": "d085f389"
      },
      "outputs": [],
      "source": [
        "columns_to_modify = ['home_team_score', 'away_team_score']\n",
        "\n",
        "def process_column(s):\n",
        "    if isinstance(s, str):\n",
        "        s = s[:-3]\n",
        "        s = re.sub(r'\\d+', '', s)\n",
        "        s = s.replace(' ', '')\n",
        "    return s\n",
        "\n",
        "for col in df_match.columns:\n",
        "    if not col in columns_to_modify:\n",
        "        df_match[col] = df_match[col].apply(process_column)\n",
        "\n",
        "df_match = df_match.drop('id', axis=1)"
      ]
    },
    {
      "cell_type": "code",
      "execution_count": null,
      "id": "c003aca5",
      "metadata": {
        "id": "c003aca5"
      },
      "outputs": [],
      "source": [
        "# 日本語の曜日を取得する関数\n",
        "def get_day_of_week_jp(dt):\n",
        "    w_list = ['月曜日', '火曜日', '水曜日', '木曜日', '金曜日', '土曜日', '日曜日']\n",
        "    return w_list[dt.weekday()]\n",
        "\n",
        "# 日付情報をデータフレームに追加する関数\n",
        "def add_date_info(df):\n",
        "    df['match_date'] = pd.to_datetime(df['match_date'])  # 日付列をDatetimeに変換\n",
        "    df['year'] = df['match_date'].dt.year.astype(str) + '年'\n",
        "    df['dayofweek'] = df['match_date'].apply(get_day_of_week_jp)\n",
        "    return df\n",
        "\n",
        "# df_trainに日付情報を追加\n",
        "df_train = add_date_info(df_train)\n",
        "df_test = add_date_info(df_test)"
      ]
    },
    {
      "cell_type": "code",
      "execution_count": null,
      "id": "e37aea86",
      "metadata": {
        "id": "e37aea86"
      },
      "outputs": [],
      "source": [
        "def label_holidays(df, df_holidays):\n",
        "    # 日付の形式を揃える\n",
        "    df['match_date'] = pd.to_datetime(df['match_date'])\n",
        "    df_holidays['holiday_date'] = pd.to_datetime(df_holidays['holiday_date'])\n",
        "\n",
        "    # 祝日リストをセットに変換して高速化\n",
        "    holiday_set = set(df_holidays['holiday_date'])\n",
        "\n",
        "    # 曜日と祝日ラベルを結合\n",
        "    df['dayofweek'] = df.apply(\n",
        "        lambda row: '祝日' if row['match_date'] in holiday_set and row['dayofweek'] not in ['土曜日', '日曜日'] else row['dayofweek'],\n",
        "        axis=1\n",
        "    )\n",
        "\n",
        "    return df\n",
        "\n",
        "# 祝日情報の更新\n",
        "df_train = label_holidays(df_train, df_holidays)\n",
        "df_test = label_holidays(df_test, df_holidays)"
      ]
    },
    {
      "cell_type": "markdown",
      "id": "eb3c49bf",
      "metadata": {
        "id": "eb3c49bf"
      },
      "source": [
        "## 2015年、2016年は1st、2ndに分かれているため、第34節に書き換える"
      ]
    },
    {
      "cell_type": "code",
      "execution_count": null,
      "id": "f788a691",
      "metadata": {
        "id": "f788a691"
      },
      "outputs": [],
      "source": [
        "# 変更する月リスト\n",
        "months_to_change = ['7月', '8月', '9月', '10月', '11月']\n",
        "\n",
        "def update_section(row):\n",
        "    # year と month を直接プロパティから取得\n",
        "    year = str(row['match_date'].year) + '年'\n",
        "    month = row['match_date'].month\n",
        "\n",
        "    # 月を数字から日本語の表記に変換\n",
        "    month_jp = f\"{month}月\"\n",
        "\n",
        "    if year == '2015年' and month_jp in months_to_change:\n",
        "        num = int(row['section'][1:-1]) + 17\n",
        "        return f'第{num}節'\n",
        "    elif year == '2016年' and month_jp in months_to_change:\n",
        "        num = int(row['section'][1:-1]) + 17\n",
        "        return f'第{num}節'\n",
        "    else:\n",
        "        return row['section']\n",
        "\n",
        "df_train['section'] = df_train.apply(update_section, axis=1)"
      ]
    },
    {
      "cell_type": "markdown",
      "id": "b995ba21",
      "metadata": {
        "id": "b995ba21"
      },
      "source": [
        "## 変数作成"
      ]
    },
    {
      "cell_type": "code",
      "execution_count": null,
      "id": "2ec0307b",
      "metadata": {
        "id": "2ec0307b"
      },
      "outputs": [],
      "source": [
        "def insert_columns(\n",
        "        df: pd.DataFrame,\n",
        "        data: Union[pd.Series, pd.DataFrame],\n",
        "        *,\n",
        "        before: Optional[str] = None,\n",
        "        after: Optional[str] = None,\n",
        "        allow_duplicates: bool = False,\n",
        "        inplace: bool = False,\n",
        "    ) -> pd.DataFrame:\n",
        "    \"\"\"\n",
        "    DataFrameに新しい列または複数の列を挿入します。\n",
        "\n",
        "    Parameters:\n",
        "    - df: pd.DataFrame\n",
        "        列を挿入するDataFrame\n",
        "    - data: Union[pd.Series, pd.DataFrame]\n",
        "        挿入するデータ。pd.Seriesの場合、単一列として挿入。\n",
        "        pd.DataFrameの場合、複数列を挿入。\n",
        "    - before: Optional[str], default=None\n",
        "        指定された列の前に挿入する。`after` と併用不可。\n",
        "    - after: Optional[str], default=None\n",
        "        指定された列の後に挿入する。`before` と併用不可。\n",
        "    - allow_duplicates: bool, default=False\n",
        "        Trueの場合、重複した列名を許可。\n",
        "    - inplace: bool, default=False\n",
        "        Trueの場合、元のDataFrameを直接変更。Falseの場合、新しいDataFrameを返す。\n",
        "\n",
        "    Returns:\n",
        "    - pd.DataFrame\n",
        "        列が挿入されたDataFrame。\n",
        "    \"\"\"\n",
        "    if not inplace:\n",
        "        df = df.copy()\n",
        "\n",
        "    if not (after is None) ^ (before is None):\n",
        "        raise ValueError('You must specify either \"before\" or \"after\", but not both.')\n",
        "\n",
        "    # 挿入位置を決定\n",
        "    loc = df.columns.get_loc(before) if before else df.columns.get_loc(after) + 1\n",
        "\n",
        "    # データの型チェックと列の挿入\n",
        "    if isinstance(data, pd.Series):\n",
        "        if data.name in df.columns and not allow_duplicates:\n",
        "            raise ValueError(f'Column \"{data.name}\" already exists and allow_duplicates is set to False.')\n",
        "        df.insert(loc, data.name, data, allow_duplicates=allow_duplicates)\n",
        "    elif isinstance(data, pd.DataFrame):\n",
        "        if not allow_duplicates:\n",
        "            for column in data.columns:\n",
        "                if column in df.columns:\n",
        "                    raise ValueError(f'Column \"{column}\" already exists and allow_duplicates is set to False.')\n",
        "        for column in reversed(data.columns):\n",
        "            df.insert(loc, column, data[column], allow_duplicates=allow_duplicates)\n",
        "    else:\n",
        "        raise TypeError('data must be a pd.Series or pd.DataFrame')\n",
        "\n",
        "    return df\n"
      ]
    },
    {
      "cell_type": "code",
      "execution_count": null,
      "id": "5abec66f",
      "metadata": {
        "id": "5abec66f"
      },
      "outputs": [],
      "source": [
        "# 'id', 'home_team_score', 'away_team_score' 以外の列を取得\n",
        "columns_to_add = [col for col in df_match.columns if col not in ['id']]\n",
        "\n",
        "# df_trainに列を追加\n",
        "for i, col in enumerate(columns_to_add):\n",
        "    df_train.insert(5 + i, col, df_match.loc[:len(df_train)-1, col])\n",
        "\n",
        "# df_testに列を追加\n",
        "for i, col in enumerate(columns_to_add):\n",
        "    df_test.insert(5 + i, col, df_match.loc[len(df_train):len(df_train) + len(df_test)-1, col].reset_index(drop=True))"
      ]
    },
    {
      "cell_type": "markdown",
      "id": "99fe695e",
      "metadata": {
        "id": "99fe695e"
      },
      "source": [
        "## 名前の統一"
      ]
    },
    {
      "cell_type": "code",
      "execution_count": null,
      "id": "d3779228",
      "metadata": {
        "scrolled": true,
        "id": "d3779228"
      },
      "outputs": [],
      "source": [
        "def name_home(df):\n",
        "    for i in range(len(df)):\n",
        "        if df['home_team'][i] == '川崎F':\n",
        "            df['home_team'][i] = '川崎Ｆ'\n",
        "        elif df['home_team'][i] == 'C大阪':\n",
        "            df['home_team'][i] = 'Ｃ大阪'\n",
        "        elif df['home_team'][i] == 'G大阪':\n",
        "            df['home_team'][i] = 'Ｇ大阪'\n",
        "    return df\n",
        "\n",
        "def name_away(df):\n",
        "    for i in range(len(df)):\n",
        "        if df['away_team'][i] == '川崎F':\n",
        "            df['away_team'][i] = '川崎Ｆ'\n",
        "        elif df['away_team'][i] == 'C大阪':\n",
        "            df['away_team'][i] = 'Ｃ大阪'\n",
        "        elif df['away_team'][i] == 'G大阪':\n",
        "            df['away_team'][i] = 'Ｇ大阪'\n",
        "    return df\n",
        "\n",
        "df_train = name_home(df_train)\n",
        "df_train = name_away(df_train)\n",
        "df_test = name_home(df_test)\n",
        "df_test = name_away(df_test)"
      ]
    },
    {
      "cell_type": "markdown",
      "id": "2e8562f1",
      "metadata": {
        "id": "2e8562f1"
      },
      "source": [
        "## 年、月、日、曜日をsinとcosに"
      ]
    },
    {
      "cell_type": "code",
      "execution_count": null,
      "id": "e973ba6f",
      "metadata": {
        "id": "e973ba6f"
      },
      "outputs": [],
      "source": [
        "def add_cyclic_features(df, date_column):\n",
        "    \"\"\"\n",
        "    日付データをサイン・コサイン変換し、周期性を考慮した特徴量をデータフレームに追加する関数。\n",
        "\n",
        "    Parameters:\n",
        "    - df (pd.DataFrame): 日付を含むデータフレーム。\n",
        "    - date_column (str): 日付が含まれるカラム名。\n",
        "\n",
        "    Returns:\n",
        "    - pd.DataFrame: サイン・コサイン変換された特徴量を含むデータフレーム。\n",
        "    \"\"\"\n",
        "\n",
        "    # 日付をdatetime型に変換\n",
        "    df[date_column] = pd.to_datetime(df[date_column])\n",
        "\n",
        "    # 年周期のサイン・コサイン変換\n",
        "    df['day_of_year'] = df[date_column].dt.dayofyear\n",
        "    def get_days_in_year(year):\n",
        "        return 366 if year % 4 == 0 else 365\n",
        "    df['days_in_year'] = df[date_column].dt.year.apply(get_days_in_year)\n",
        "    df['day_of_year_sin'] = np.sin(2 * np.pi * df['day_of_year'] / df['days_in_year'])\n",
        "    df['day_of_year_cos'] = np.cos(2 * np.pi * df['day_of_year'] / df['days_in_year'])\n",
        "\n",
        "    # 月周期のサイン・コサイン変換\n",
        "    df['day_of_month'] = df[date_column].dt.day\n",
        "    def get_days_in_month(date):\n",
        "        if date.month == 2:\n",
        "            return 29 if date.year % 4 == 0 else 28\n",
        "        elif date.month in [4, 6, 9, 11]:\n",
        "            return 30\n",
        "        else:\n",
        "            return 31\n",
        "    df['days_in_month'] = df[date_column].apply(get_days_in_month)\n",
        "    df['day_of_month_sin'] = np.sin(2 * np.pi * df['day_of_month'] / df['days_in_month'])\n",
        "    df['day_of_month_cos'] = np.cos(2 * np.pi * df['day_of_month'] / df['days_in_month'])\n",
        "\n",
        "    # 曜日周期のサイン・コサイン変換\n",
        "    df['day_of_week'] = df[date_column].dt.dayofweek\n",
        "    df['day_of_week_sin'] = np.sin(2 * np.pi * df['day_of_week'] / 7)\n",
        "    df['day_of_week_cos'] = np.cos(2 * np.pi * df['day_of_week'] / 7)\n",
        "\n",
        "    # 不要な変数を削除\n",
        "    columns_to_drop = [\n",
        "        'day_of_year', 'days_in_year',\n",
        "        'day_of_month', 'days_in_month',\n",
        "        'day_of_week'\n",
        "    ]\n",
        "    df.drop(columns=columns_to_drop, inplace=True)\n",
        "\n",
        "    return df\n",
        "\n",
        "df_train = add_cyclic_features(df_train, 'match_date')\n",
        "df_test = add_cyclic_features(df_test, 'match_date')"
      ]
    },
    {
      "cell_type": "code",
      "execution_count": null,
      "id": "b8a7d674",
      "metadata": {
        "id": "b8a7d674"
      },
      "outputs": [],
      "source": [
        "def kick_off_time(df, date_column):\n",
        "    # まず、日付列が datetime 型であることを確認し、そうでない場合は変換する\n",
        "    if not pd.api.types.is_datetime64_any_dtype(df[date_column]):\n",
        "        df[date_column] = pd.to_datetime(df[date_column])\n",
        "\n",
        "    df['hour_of_day'] = df[date_column].dt.hour\n",
        "    df['minute_of_day'] = df[date_column].dt.minute\n",
        "    df['total_seconds'] = df['hour_of_day'] * 3600 + df['minute_of_day'] * 60\n",
        "    df['time_of_day_sin'] = np.sin(2 * np.pi * df['total_seconds'] / 86400)\n",
        "    df['time_of_day_cos'] = np.cos(2 * np.pi * df['total_seconds'] / 86400)\n",
        "\n",
        "    # 'second_of_day' は未定義なので、リストから削除\n",
        "    columns_to_drop = ['hour_of_day', 'minute_of_day', 'total_seconds']\n",
        "    df.drop(columns=columns_to_drop, inplace=True)\n",
        "\n",
        "    return df\n",
        "\n",
        "df_train = kick_off_time(df_train, 'kick_off_time')\n",
        "df_test = kick_off_time(df_test, 'kick_off_time')"
      ]
    },
    {
      "cell_type": "markdown",
      "id": "1123be42",
      "metadata": {
        "id": "1123be42"
      },
      "source": [
        "## 天気"
      ]
    },
    {
      "cell_type": "code",
      "execution_count": null,
      "id": "9b005963",
      "metadata": {
        "id": "9b005963"
      },
      "outputs": [],
      "source": [
        "t = Tokenizer()\n",
        "\n",
        "for i in range(len(df_train)):\n",
        "    tk = [token.surface for token in t.tokenize(df_train['weather'][i])]\n",
        "\n",
        "    j = 0\n",
        "    while j < len(tk):\n",
        "        if tk[j] in ['々', '-']:\n",
        "            tk.pop(j)\n",
        "        elif tk[j] == '時':\n",
        "            tk[j] = '時々'\n",
        "            j += 1\n",
        "        elif tk[j] not in ['晴', '曇', '雨', 'のち', '時々', '時']:\n",
        "            tk[j] = 'その他'\n",
        "            j += 1\n",
        "        else:\n",
        "            j += 1\n",
        "\n",
        "    df_train['weather'][i] = \" \".join(tk)\n",
        "\n",
        "for i in range(len(df_test)):\n",
        "    tk = [token.surface for token in t.tokenize(df_test['weather'][i])]\n",
        "\n",
        "    j = 0\n",
        "    while j < len(tk):\n",
        "        if tk[j] in ['々', '-']:\n",
        "            tk.pop(j)\n",
        "        elif tk[j] == '時':\n",
        "            tk[j] = '時々'\n",
        "            j += 1\n",
        "        elif tk[j] not in ['晴', '曇', '雨', 'のち', '時々', '時']:\n",
        "            tk[j] = 'その他'\n",
        "            j += 1\n",
        "        else:\n",
        "            j += 1\n",
        "\n",
        "    df_test['weather'][i] = \" \".join(tk)"
      ]
    },
    {
      "cell_type": "markdown",
      "id": "c76a0d5e",
      "metadata": {
        "id": "c76a0d5e"
      },
      "source": [
        "## 同じ会場が別の名前で登録されているかどうか"
      ]
    },
    {
      "cell_type": "code",
      "execution_count": null,
      "id": "aab1f3c1",
      "metadata": {
        "id": "aab1f3c1"
      },
      "outputs": [],
      "source": [
        "usage_counts = pd.crosstab(df_train['venue'], df_train['year'])\n",
        "\n",
        "# ヒートマップを作成\n",
        "plt.figure(figsize=(24, 18))\n",
        "sns.heatmap(usage_counts, annot=True, cmap='coolwarm', linewidths=0.5)\n",
        "\n",
        "# グラフのラベルとタイトルを設定\n",
        "plt.title('Venue Usage by Year')\n",
        "plt.ylabel('Venue')\n",
        "plt.xlabel('Year')\n",
        "\n",
        "# ヒートマップを表示\n",
        "plt.show()"
      ]
    },
    {
      "cell_type": "code",
      "execution_count": null,
      "id": "88672ae1",
      "metadata": {
        "scrolled": true,
        "id": "88672ae1"
      },
      "outputs": [],
      "source": [
        "for i in range(len(df_train)):\n",
        "    if df_train['venue'][i] == '広島ビッグアーチ':\n",
        "        df_train['venue'][i] = 'エディオンスタジアム広島'\n",
        "    elif df_train['venue'][i] == '大阪長居スタジアム':\n",
        "        df_train['venue'][i] = 'ヤンマースタジアム長居'\n",
        "    elif df_train['venue'][i] == '大分銀行ドーム':\n",
        "        df_train['venue'][i] = '昭和電工ドーム大分'\n",
        "    elif df_train['venue'][i] == '日本平スタジアム':\n",
        "        df_train['venue'][i] = 'IAIスタジアム日本平'\n",
        "    elif df_train['venue'][i] == 'アウトソーシングスタジアム日本平':\n",
        "        df_train['venue'][i] = 'IAIスタジアム日本平'\n",
        "    elif df_train['venue'][i] == '新潟スタジアム':\n",
        "        df_train['venue'][i] = 'デンカビッグスワンスタジアム'\n",
        "    elif df_train['venue'][i] == '名古屋市瑞穂球技場':\n",
        "        df_train['venue'][i] = 'パロマ瑞穂スタジアム'\n",
        "        df_train['address'][i] = '愛知県名古屋市瑞穂区山下通5-1'\n",
        "    elif df_train['venue'][i] == '名古屋市瑞穂陸上競技場':\n",
        "        df_train['venue'][i] = 'パロマ瑞穂スタジアム'\n",
        "        df_train['address'][i] = '愛知県名古屋市瑞穂区山下通5-1'\n",
        "    elif df_train['venue'][i] == 'ホームズスタジアム神戸':\n",
        "        df_train['venue'][i] = 'ノエビアスタジアム神戸'\n",
        "    elif df_train['venue'][i] == '山梨県小瀬スポーツ公園陸上競技場':\n",
        "        df_train['venue'][i] = '山梨中銀スタジアム'\n",
        "        df_train['address'][i] = '山梨県甲府市小瀬町840'\n",
        "    elif df_train['venue'][i] == '静岡スタジアムエコパ':\n",
        "        df_train['venue'][i] = 'エコパスタジアム'\n",
        "        df_train['address'][i] = '静岡県袋井市愛野2300−1'\n",
        "    elif df_train['venue'][i] == '東北電力ビッグスワンスタジアム':\n",
        "        df_train['venue'][i] = 'デンカビッグスワンスタジアム'\n",
        "        df_train['address'][i] = '新潟県新潟市中央区清五郎67-12'\n",
        "    elif df_train['venue'][i] == 'Shonan BMW スタジアム平塚':\n",
        "        df_train['venue'][i] = 'ShonanBMWスタジアム平塚'\n",
        "    elif df_train['venue'][i] == '市立吹田サッカースタジアム':\n",
        "        df_train['venue'][i] = 'パナソニック スタジアム 吹田'\n",
        "    elif df_train['venue'][i] == '日立柏サッカー場':\n",
        "        df_train['venue'][i] = '三協フロンテア柏スタジアム'"
      ]
    },
    {
      "cell_type": "code",
      "execution_count": null,
      "id": "bb4168a3",
      "metadata": {
        "id": "bb4168a3"
      },
      "outputs": [],
      "source": [
        "for i in range(len(df_test)):\n",
        "    if df_test['venue'][i] == '広島ビッグアーチ':\n",
        "        df_test['venue'][i] = 'エディオンスタジアム広島'\n",
        "    elif df_test['venue'][i] == '大阪長居スタジアム':\n",
        "        df_test['venue'][i] = 'ヤンマースタジアム長居'\n",
        "    elif df_test['venue'][i] == '大分銀行ドーム':\n",
        "        df_test['venue'][i] = '昭和電工ドーム大分'\n",
        "    elif df_test['venue'][i] == '日本平スタジアム':\n",
        "        df_test['venue'][i] = 'IAIスタジアム日本平'\n",
        "    elif df_test['venue'][i] == 'アウトソーシングスタジアム日本平':\n",
        "        df_test['venue'][i] = 'IAIスタジアム日本平'\n",
        "    elif df_test['venue'][i] == '新潟スタジアム':\n",
        "        df_test['venue'][i] = 'デンカビッグスワンスタジアム'\n",
        "    elif df_test['venue'][i] == '名古屋市瑞穂球技場':\n",
        "        df_test['venue'][i] = 'パロマ瑞穂スタジアム'\n",
        "        df_test['address'][i] = '愛知県名古屋市瑞穂区山下通5-1'\n",
        "    elif df_test['venue'][i] == '名古屋市瑞穂陸上競技場':\n",
        "        df_test['venue'][i] = 'パロマ瑞穂スタジアム'\n",
        "        df_test['address'][i] = '愛知県名古屋市瑞穂区山下通5-1'\n",
        "    elif df_test['venue'][i] == 'ホームズスタジアム神戸':\n",
        "        df_test['venue'][i] = 'ノエビアスタジアム神戸'\n",
        "    elif df_test['venue'][i] == '山梨県小瀬スポーツ公園陸上競技場':\n",
        "        df_test['venue'][i] = '山梨中銀スタジアム'\n",
        "        df_test['address'][i] = '山梨県甲府市小瀬町840'\n",
        "    elif df_test['venue'][i] == '静岡スタジアムエコパ':\n",
        "        df_test['venue'][i] = 'エコパスタジアム'\n",
        "        df_test['address'][i] = '静岡県袋井市愛野2300−1'\n",
        "    elif df_test['venue'][i] == '東北電力ビッグスワンスタジアム':\n",
        "        df_test['venue'][i] = 'デンカビッグスワンスタジアム'\n",
        "        df_test['address'][i] = '新潟県新潟市中央区清五郎67-12'\n",
        "    elif df_test['venue'][i] == 'Shonan BMW スタジアム平塚':\n",
        "        df_test['venue'][i] = 'ShonanBMWスタジアム平塚'\n",
        "    elif df_test['venue'][i] == '市立吹田サッカースタジアム':\n",
        "        df_test['venue'][i] = 'パナソニック スタジアム 吹田'\n",
        "    elif df_test['venue'][i] == '日立柏サッカー場':\n",
        "        df_test['venue'][i] = '三協フロンテア柏スタジアム'"
      ]
    },
    {
      "cell_type": "code",
      "execution_count": null,
      "id": "be72d9bf",
      "metadata": {
        "id": "be72d9bf"
      },
      "outputs": [],
      "source": [
        "usage_counts = pd.crosstab(df_train['venue'], df_train['year'])\n",
        "\n",
        "# ヒートマップを作成\n",
        "plt.figure(figsize=(24, 18))\n",
        "sns.heatmap(usage_counts, annot=True, cmap='coolwarm', linewidths=0.5)\n",
        "\n",
        "# グラフのラベルとタイトルを設定\n",
        "plt.title('Venue Usage by Year')\n",
        "plt.ylabel('Venue')\n",
        "plt.xlabel('Year')\n",
        "\n",
        "# ヒートマップを表示\n",
        "plt.show()"
      ]
    },
    {
      "cell_type": "markdown",
      "id": "b637a5aa",
      "metadata": {
        "id": "b637a5aa"
      },
      "source": [
        "## 休日かどうか"
      ]
    },
    {
      "cell_type": "code",
      "execution_count": null,
      "id": "2426d612",
      "metadata": {
        "id": "2426d612"
      },
      "outputs": [],
      "source": [
        "def is_holiday(row):\n",
        "    if row['dayofweek'] in ['土曜日', '日曜日', '祝日']:\n",
        "        return 1\n",
        "    else:\n",
        "        return 0\n",
        "\n",
        "df_train['is_holiday'] = df_train.apply(is_holiday, axis=1)\n",
        "df_test['is_holiday'] = df_test.apply(is_holiday, axis=1)"
      ]
    },
    {
      "cell_type": "markdown",
      "id": "bd4b20d6",
      "metadata": {
        "id": "bd4b20d6"
      },
      "source": [
        "## 次の日休みであるかどうか"
      ]
    },
    {
      "cell_type": "code",
      "execution_count": null,
      "id": "0e68cda5",
      "metadata": {
        "id": "0e68cda5"
      },
      "outputs": [],
      "source": [
        "holiday_set = set(df_holidays['holiday_date'])\n",
        "\n",
        "def delay_one_day(date):\n",
        "    # 入力をTimestampとして扱う\n",
        "    if isinstance(date, pd.Timestamp):\n",
        "        delayed_date = date + timedelta(days=1)\n",
        "    else:\n",
        "        delayed_date = datetime.strptime(date, '%Y-%m-%d') + timedelta(days=1)\n",
        "    return delayed_date.strftime('%Y-%m-%d')\n",
        "\n",
        "def check_next_day_holiday(row):\n",
        "    date_str = row['match_date']\n",
        "    day_of_week = row['dayofweek']\n",
        "\n",
        "    if day_of_week in ['金曜日', '土曜日']:\n",
        "        return 1\n",
        "    next_day = delay_one_day(date_str)\n",
        "    return 1 if next_day in holiday_set else 0\n",
        "\n",
        "# 新しいカラムをデータフレームに追加\n",
        "df_train['rest'] = df_train.apply(check_next_day_holiday, axis=1)\n",
        "df_test['rest'] = df_test.apply(check_next_day_holiday, axis=1)"
      ]
    },
    {
      "cell_type": "markdown",
      "id": "6e154b97",
      "metadata": {
        "id": "6e154b97"
      },
      "source": [
        "## 何連休か"
      ]
    },
    {
      "cell_type": "code",
      "execution_count": null,
      "id": "7ab7fdf3",
      "metadata": {
        "id": "7ab7fdf3"
      },
      "outputs": [],
      "source": [
        "# 連休日数を計算する関数\n",
        "def calculate_consecutive_holidays(df_train, holiday_set):\n",
        "    # 日付をTimestampに変換\n",
        "    df_train['match_date'] = pd.to_datetime(df_train['match_date'])\n",
        "\n",
        "    # 連休日数カラムを初期化\n",
        "    df_train['holiday_streak'] = 0\n",
        "\n",
        "    # 全ての日付をセットに変換\n",
        "    all_dates = set(df_train['match_date'].astype(str))\n",
        "\n",
        "    # 各行について連休を計算\n",
        "    for index, row in df_train.iterrows():\n",
        "        date_str = row['match_date'].strftime('%Y-%m-%d')\n",
        "        day_of_week = row['dayofweek']\n",
        "\n",
        "        # その日が休日かどうかをチェック\n",
        "        if date_str in holiday_set or day_of_week in ['土曜日', '日曜日']:\n",
        "            streak_count = 1\n",
        "            current_date = row['match_date']\n",
        "\n",
        "            # 連続する休日をカウント\n",
        "            while True:\n",
        "                next_date = current_date + timedelta(days=1)\n",
        "                next_date_str = next_date.strftime('%Y-%m-%d')\n",
        "                next_day_of_week = next_date.strftime('%A')\n",
        "                if (next_date_str in holiday_set) or (next_date.strftime('%A') in ['Saturday', 'Sunday']):\n",
        "                    streak_count += 1\n",
        "                    current_date = next_date\n",
        "                else:\n",
        "                    break\n",
        "\n",
        "            # 連休日数を設定\n",
        "            df_train.at[index, 'holiday_streak'] = streak_count\n",
        "        else:\n",
        "            df_train.at[index, 'holiday_streak'] = 0\n",
        "\n",
        "    return df_train\n",
        "\n",
        "# 連休日数を計算してデータフレームに追加\n",
        "df_train = calculate_consecutive_holidays(df_train, holiday_set)\n",
        "df_test = calculate_consecutive_holidays(df_test, holiday_set)"
      ]
    },
    {
      "cell_type": "markdown",
      "id": "32bbbd05",
      "metadata": {
        "id": "32bbbd05"
      },
      "source": [
        "## 放送局数"
      ]
    },
    {
      "cell_type": "code",
      "execution_count": null,
      "id": "0a318769",
      "metadata": {
        "id": "0a318769"
      },
      "outputs": [],
      "source": [
        "df_train['broadcasters'] = df_train['broadcasters'].apply(lambda x: len(x.split('/')))\n",
        "df_test['broadcasters'] = df_test['broadcasters'].apply(lambda x: len(x.split('/')))"
      ]
    },
    {
      "cell_type": "markdown",
      "id": "9b311871",
      "metadata": {
        "id": "9b311871"
      },
      "source": [
        "## 試合結果"
      ]
    },
    {
      "cell_type": "code",
      "execution_count": null,
      "id": "46d93313",
      "metadata": {
        "scrolled": true,
        "id": "46d93313"
      },
      "outputs": [],
      "source": [
        "def add_match_result(df):\n",
        "    match_result = []\n",
        "    for i in range(len(df)):\n",
        "        match_result.append(1)\n",
        "\n",
        "    df_match_result = pd.DataFrame(match_result, columns=['match_result'])\n",
        "\n",
        "    df = insert_columns(df, df_match_result, after='home_team_score')\n",
        "\n",
        "    for i in range(len(df)):\n",
        "        if df['home_team_score'][i] == df['away_team_score'][i]:\n",
        "            df['match_result'][i] = '引き分け'\n",
        "        elif df['home_team_score'][i] > df['away_team_score'][i]:\n",
        "            df['match_result'][i] = 'ホーム勝ち'\n",
        "        else:\n",
        "            df['match_result'][i] = 'ホーム負け'\n",
        "    return df\n",
        "\n",
        "df_train = add_match_result(df_train)\n",
        "df_test = add_match_result(df_test)"
      ]
    },
    {
      "cell_type": "markdown",
      "id": "990407b8",
      "metadata": {
        "id": "990407b8"
      },
      "source": [
        "## 試合前の順位算出"
      ]
    },
    {
      "cell_type": "code",
      "execution_count": null,
      "id": "928f65e0",
      "metadata": {
        "id": "928f65e0"
      },
      "outputs": [],
      "source": [
        "def ranking(df_train_year):\n",
        "    # 各チームの節ごとの勝ち点、得失点差、総得点、失点、勝ち数、引き分け数、負け数、連勝、直近5試合の勝ち数、負け数を保持するデータフレームを作成します。\n",
        "    df_standings = pd.DataFrame({\n",
        "        'チーム': df_train_year['home_team'].unique(),\n",
        "        '勝ち点': 0,\n",
        "        '得失点差': 0,\n",
        "        '総得点': 0,\n",
        "        '失点': 0,\n",
        "        '勝': 0,\n",
        "        '分': 0,\n",
        "        '負': 0,\n",
        "        '連勝': 0,\n",
        "        '直近5試合勝数': 0,\n",
        "        '直近5試合負数': 0,\n",
        "    })\n",
        "\n",
        "    # 連勝と直近5試合の勝ち・負けを管理する辞書を作成します。\n",
        "    winning_streak = {team: 0 for team in df_standings['チーム']}\n",
        "    last_5_matches = {team: [] for team in df_standings['チーム']}  # 直近5試合の結果を保存する辞書\n",
        "\n",
        "    ranking_per_round = []\n",
        "\n",
        "    # 各節ごとにデータを処理します。\n",
        "    for round_num in df_train_year['section'].unique():\n",
        "        # その節の結果を取得します。\n",
        "        df_round = df_train_year[df_train_year['section'] == round_num]\n",
        "\n",
        "        # 各試合の結果を反映させます。\n",
        "        for _, match in df_round.iterrows():\n",
        "            home_team = match['home_team']\n",
        "            away_team = match['away_team']\n",
        "            home_score = match['home_team_score']\n",
        "            away_score = match['away_team_score']\n",
        "\n",
        "            if home_score > away_score:\n",
        "                home_points = 3\n",
        "                away_points = 0\n",
        "                home_result = 'W'  # 勝ち\n",
        "                away_result = 'L'  # 負け\n",
        "\n",
        "                df_standings.loc[df_standings['チーム'] == home_team, '勝'] += 1\n",
        "                df_standings.loc[df_standings['チーム'] == home_team, '連勝'] = winning_streak[home_team] = winning_streak[home_team] + 1\n",
        "                df_standings.loc[df_standings['チーム'] == away_team, '負'] += 1\n",
        "                df_standings.loc[df_standings['チーム'] == away_team, '連勝'] = winning_streak[away_team] = 0\n",
        "            elif home_score == away_score:\n",
        "                home_points = 1\n",
        "                away_points = 1\n",
        "                home_result = 'D'  # 引き分け\n",
        "                away_result = 'D'  # 引き分け\n",
        "\n",
        "                df_standings.loc[df_standings['チーム'] == home_team, '分'] += 1\n",
        "                df_standings.loc[df_standings['チーム'] == away_team, '分'] += 1\n",
        "                df_standings.loc[df_standings['チーム'] == home_team, '連勝'] = winning_streak[home_team] = 0\n",
        "                df_standings.loc[df_standings['チーム'] == away_team, '連勝'] = winning_streak[away_team] = 0\n",
        "            else:\n",
        "                home_points = 0\n",
        "                away_points = 3\n",
        "                home_result = 'L'  # 負け\n",
        "                away_result = 'W'  # 勝ち\n",
        "\n",
        "                df_standings.loc[df_standings['チーム'] == home_team, '負'] += 1\n",
        "                df_standings.loc[df_standings['チーム'] == home_team, '連勝'] = winning_streak[home_team] = 0\n",
        "                df_standings.loc[df_standings['チーム'] == away_team, '勝'] += 1\n",
        "                df_standings.loc[df_standings['チーム'] == away_team, '連勝'] = winning_streak[away_team] = winning_streak[away_team] + 1\n",
        "\n",
        "            home_goal_diff = home_score - away_score\n",
        "            df_standings.loc[df_standings['チーム'] == home_team, '勝ち点'] += home_points\n",
        "            df_standings.loc[df_standings['チーム'] == home_team, '得失点差'] += home_goal_diff\n",
        "            df_standings.loc[df_standings['チーム'] == home_team, '総得点'] += home_score\n",
        "            df_standings.loc[df_standings['チーム'] == home_team, '失点'] += away_score\n",
        "\n",
        "            away_goal_diff = -home_goal_diff\n",
        "            df_standings.loc[df_standings['チーム'] == away_team, '勝ち点'] += away_points\n",
        "            df_standings.loc[df_standings['チーム'] == away_team, '得失点差'] += away_goal_diff\n",
        "            df_standings.loc[df_standings['チーム'] == away_team, '総得点'] += away_score\n",
        "            df_standings.loc[df_standings['チーム'] == away_team, '失点'] += home_score\n",
        "\n",
        "            # 直近5試合の結果を更新します。\n",
        "            last_5_matches[home_team].append(home_result)\n",
        "            last_5_matches[away_team].append(away_result)\n",
        "\n",
        "            # 直近5試合の勝ち数と負け数を更新します。\n",
        "            for team in [home_team, away_team]:\n",
        "                if len(last_5_matches[team]) > 5:\n",
        "                    last_5_matches[team].pop(0)  # 古い試合結果を削除\n",
        "\n",
        "                recent_wins = last_5_matches[team].count('W')\n",
        "                recent_losses = last_5_matches[team].count('L')\n",
        "\n",
        "                df_standings.loc[df_standings['チーム'] == team, '直近5試合勝数'] = recent_wins\n",
        "                df_standings.loc[df_standings['チーム'] == team, '直近5試合負数'] = recent_losses\n",
        "\n",
        "        # 順位を計算します。\n",
        "        df_standings.sort_values(['勝ち点', '得失点差', '総得点'], ascending=False, inplace=True)\n",
        "        df_standings['順位'] = range(1, len(df_standings) + 1)\n",
        "\n",
        "        # 現在の順位表を保存します。節番号も追加します。\n",
        "        df_standings_round = df_standings.copy()\n",
        "        df_standings_round['節'] = round_num\n",
        "        ranking_per_round.append(df_standings_round)\n",
        "\n",
        "    # 全節終了後の順位表を連結します。\n",
        "    df_ranking = pd.concat(ranking_per_round)\n",
        "    df_ranking = df_ranking.reset_index(drop=True)\n",
        "\n",
        "    return df_ranking"
      ]
    },
    {
      "cell_type": "code",
      "execution_count": null,
      "id": "7b95c85d",
      "metadata": {
        "id": "7b95c85d"
      },
      "outputs": [],
      "source": [
        "df_train_2006 = df_train[df_train['year'] == '2006年']\n",
        "df_train_2007 = df_train[df_train['year'] == '2007年']\n",
        "df_train_2008 = df_train[df_train['year'] == '2008年']\n",
        "df_train_2009 = df_train[df_train['year'] == '2009年']\n",
        "df_train_2010 = df_train[df_train['year'] == '2010年']\n",
        "df_train_2011 = df_train[df_train['year'] == '2011年']\n",
        "df_train_2012 = df_train[df_train['year'] == '2012年']\n",
        "df_train_2013 = df_train[df_train['year'] == '2013年']\n",
        "df_train_2014 = df_train[df_train['year'] == '2014年']\n",
        "df_train_2015 = df_train[df_train['year'] == '2015年']\n",
        "df_train_2016 = df_train[df_train['year'] == '2016年']\n",
        "df_train_2017 = df_train[df_train['year'] == '2017年']\n",
        "df_test_2018 = df_test[df_test['year'] == '2018年']\n",
        "df_test_2019 = df_test[df_test['year'] == '2019年']\n",
        "df_train_2006 = ranking(df_train_2006)\n",
        "df_train_2007 = ranking(df_train_2007)\n",
        "df_train_2008 = ranking(df_train_2008)\n",
        "df_train_2009 = ranking(df_train_2009)\n",
        "df_train_2010 = ranking(df_train_2010)\n",
        "df_train_2011 = ranking(df_train_2011)\n",
        "df_train_2012 = ranking(df_train_2012)\n",
        "df_train_2013 = ranking(df_train_2013)\n",
        "df_train_2014 = ranking(df_train_2014)\n",
        "df_train_2015 = ranking(df_train_2015)\n",
        "df_train_2016 = ranking(df_train_2016)\n",
        "df_train_2017 = ranking(df_train_2017)\n",
        "df_test_2018 = ranking(df_test_2018)\n",
        "df_test_2019 = ranking(df_test_2019)\n",
        "df_train_2006['year'] = '2006'\n",
        "df_train_2007['year'] = '2007'\n",
        "df_train_2008['year'] = '2008'\n",
        "df_train_2009['year'] = '2009'\n",
        "df_train_2010['year'] = '2010'\n",
        "df_train_2011['year'] = '2011'\n",
        "df_train_2012['year'] = '2012'\n",
        "df_train_2013['year'] = '2013'\n",
        "df_train_2014['year'] = '2014'\n",
        "df_train_2015['year'] = '2015'\n",
        "df_train_2016['year'] = '2016'\n",
        "df_train_2017['year'] = '2017'\n",
        "df_test_2018['year'] = '2018'\n",
        "df_test_2019['year'] = '2019'"
      ]
    },
    {
      "cell_type": "code",
      "execution_count": null,
      "id": "78b39dec",
      "metadata": {
        "id": "78b39dec"
      },
      "outputs": [],
      "source": [
        "df_train[['ホーム勝ち点', 'ホーム得失点差', 'ホーム総得点', 'ホーム失点', 'ホーム勝数', 'ホーム分数',\n",
        "          'ホーム負数', 'ホーム連勝', 'ホーム直近5試合勝数','ホーム直近5試合負数']] = 0\n",
        "df_train[['アウェー勝ち点', 'アウェー得失点差', 'アウェー総得点', 'アウェー失点', 'アウェー勝数', 'アウェー分数',\n",
        "          'アウェー負数', 'アウェー連勝', 'アウェー直近5試合勝数','アウェー直近5試合負数']] = 0\n",
        "df_test[['ホーム勝ち点', 'ホーム得失点差', 'ホーム総得点', 'ホーム失点', 'ホーム勝数', 'ホーム分数',\n",
        "          'ホーム負数', 'ホーム連勝', 'ホーム直近5試合勝数','ホーム直近5試合負数']] = 0\n",
        "df_test[['アウェー勝ち点', 'アウェー得失点差', 'アウェー総得点', 'アウェー失点', 'アウェー勝数', 'アウェー分数',\n",
        "          'アウェー負数', 'アウェー連勝', 'アウェー直近5試合勝数','アウェー直近5試合負数']] = 0"
      ]
    },
    {
      "cell_type": "code",
      "execution_count": null,
      "id": "0ed0923b",
      "metadata": {
        "id": "0ed0923b"
      },
      "outputs": [],
      "source": [
        "df_train['year'] = df_train['year'].str.extract('(\\d+)').astype(int)\n",
        "df_test['year'] = df_test['year'].str.extract('(\\d+)').astype(int)\n",
        "\n",
        "df_train['home_team_before_rank'] = 0\n",
        "df_train['away_team_before_rank'] = 0\n",
        "df_test['home_team_before_rank'] = 0\n",
        "df_test['away_team_before_rank'] = 0"
      ]
    },
    {
      "cell_type": "code",
      "execution_count": null,
      "id": "60e8ede5",
      "metadata": {
        "id": "60e8ede5"
      },
      "outputs": [],
      "source": [
        "for i in range(len(df_train)):\n",
        "    if df_train['year'][i] == 2006:\n",
        "        if df_train['section'][i] == '第1節':\n",
        "            df_train['home_team_before_rank'][i] = 'データなし'\n",
        "            df_train['away_team_before_rank'][i] = 'データなし'\n",
        "        else:\n",
        "            idx = df_train_2006[df_train_2006['節'] == '第' + str(int(df_train['section'][i][1:-1]) - 1) + '節'].iloc[0:]\n",
        "            idx = idx.reset_index(drop=True)\n",
        "            for j in range(len(idx)):\n",
        "                if df_train['home_team'][i] == idx['チーム'][j]:\n",
        "                    df_train['home_team_before_rank'][i] = str(idx['順位'][j]) + '位'\n",
        "                    df_train['ホーム勝ち点'][i] = idx['勝ち点'][j]\n",
        "                    df_train['ホーム得失点差'][i] = idx['得失点差'][j]\n",
        "                    df_train['ホーム総得点'][i] = idx['総得点'][j]\n",
        "                    df_train['ホーム失点'][i] = idx['失点'][j]\n",
        "                    df_train['ホーム勝数'][i] = idx['勝'][j]\n",
        "                    df_train['ホーム分数'][i] = idx['分'][j]\n",
        "                    df_train['ホーム負数'][i] = idx['負'][j]\n",
        "                    df_train['ホーム連勝'][i] = idx['連勝'][j]\n",
        "                    df_train['ホーム直近5試合勝数'][i] = idx['直近5試合勝数'][j]\n",
        "                    df_train['ホーム直近5試合負数'][i] = idx['直近5試合負数'][j]\n",
        "                elif df_train['away_team'][i] == idx['チーム'][j]:\n",
        "                    df_train['away_team_before_rank'][i] = str(idx['順位'][j]) + '位'\n",
        "                    df_train['アウェー勝ち点'][i] = idx['勝ち点'][j]\n",
        "                    df_train['アウェー得失点差'][i] = idx['得失点差'][j]\n",
        "                    df_train['アウェー総得点'][i] = idx['総得点'][j]\n",
        "                    df_train['アウェー失点'][i] = idx['失点'][j]\n",
        "                    df_train['アウェー勝数'][i] = idx['勝'][j]\n",
        "                    df_train['アウェー分数'][i] = idx['分'][j]\n",
        "                    df_train['アウェー負数'][i] = idx['負'][j]\n",
        "                    df_train['アウェー連勝'][i] = idx['連勝'][j]\n",
        "                    df_train['アウェー直近5試合勝数'][i] = idx['直近5試合勝数'][j]\n",
        "                    df_train['アウェー直近5試合負数'][i] = idx['直近5試合負数'][j]\n",
        "\n",
        "for i in range(len(df_train)):\n",
        "    if df_train['year'][i] == 2007:\n",
        "        if df_train['section'][i] == '第1節':\n",
        "            if df_train['home_team'][i] in df_train_2006['チーム'].unique():\n",
        "                idx = df_train_2006[df_train_2006['節'] == '第34節'].iloc[0:]\n",
        "                idx = idx.reset_index(drop=True)\n",
        "                for j in range(len(idx)):\n",
        "                    if df_train['home_team'][i] == idx['チーム'][j]:\n",
        "                        df_train['home_team_before_rank'][i] = '前シーズン' + str(idx['順位'][j]) + '位'\n",
        "            else:\n",
        "                df_train['home_team_before_rank'][i] = 'J1昇格チーム'\n",
        "\n",
        "            if df_train['away_team'][i] in df_train_2006['チーム'].unique():\n",
        "                idx = df_train_2006[df_train_2006['節'] == '第34節'].iloc[0:]\n",
        "                idx = idx.reset_index(drop=True)\n",
        "                for j in range(len(idx)):\n",
        "                    if df_train['away_team'][i] == idx['チーム'][j]:\n",
        "                        df_train['away_team_before_rank'][i] = '前シーズン' + str(idx['順位'][j]) + '位'\n",
        "            else:\n",
        "                df_train['away_team_before_rank'][i] = 'J1昇格チーム'\n",
        "        else:\n",
        "            idx = df_train_2007[df_train_2007['節'] == '第' + str(int(df_train['section'][i][1:-1]) - 1) + '節'].iloc[0:]\n",
        "            idx = idx.reset_index(drop=True)\n",
        "            for j in range(len(idx)):\n",
        "                if df_train['home_team'][i] == idx['チーム'][j]:\n",
        "                    df_train['home_team_before_rank'][i] = str(idx['順位'][j]) + '位'\n",
        "                    df_train['ホーム勝ち点'][i] = idx['勝ち点'][j]\n",
        "                    df_train['ホーム得失点差'][i] = idx['得失点差'][j]\n",
        "                    df_train['ホーム総得点'][i] = idx['総得点'][j]\n",
        "                    df_train['ホーム失点'][i] = idx['失点'][j]\n",
        "                    df_train['ホーム勝数'][i] = idx['勝'][j]\n",
        "                    df_train['ホーム分数'][i] = idx['分'][j]\n",
        "                    df_train['ホーム負数'][i] = idx['負'][j]\n",
        "                    df_train['ホーム連勝'][i] = idx['連勝'][j]\n",
        "                    df_train['ホーム直近5試合勝数'][i] = idx['直近5試合勝数'][j]\n",
        "                    df_train['ホーム直近5試合負数'][i] = idx['直近5試合負数'][j]\n",
        "                elif df_train['away_team'][i] == idx['チーム'][j]:\n",
        "                    df_train['away_team_before_rank'][i] = str(idx['順位'][j]) + '位'\n",
        "                    df_train['アウェー勝ち点'][i] = idx['勝ち点'][j]\n",
        "                    df_train['アウェー得失点差'][i] = idx['得失点差'][j]\n",
        "                    df_train['アウェー総得点'][i] = idx['総得点'][j]\n",
        "                    df_train['アウェー失点'][i] = idx['失点'][j]\n",
        "                    df_train['アウェー勝数'][i] = idx['勝'][j]\n",
        "                    df_train['アウェー分数'][i] = idx['分'][j]\n",
        "                    df_train['アウェー負数'][i] = idx['負'][j]\n",
        "                    df_train['アウェー連勝'][i] = idx['連勝'][j]\n",
        "                    df_train['アウェー直近5試合勝数'][i] = idx['直近5試合勝数'][j]\n",
        "                    df_train['アウェー直近5試合負数'][i] = idx['直近5試合負数'][j]\n",
        "\n",
        "for i in range(len(df_train)):\n",
        "    if df_train['year'][i] == 2008:\n",
        "        if df_train['section'][i] == '第1節':\n",
        "            if df_train['home_team'][i] in df_train_2007['チーム'].unique():\n",
        "                idx = df_train_2007[df_train_2007['節'] == '第34節'].iloc[0:]\n",
        "                idx = idx.reset_index(drop=True)\n",
        "                for j in range(len(idx)):\n",
        "                    if df_train['home_team'][i] == idx['チーム'][j]:\n",
        "                        df_train['home_team_before_rank'][i] = '前シーズン' + str(idx['順位'][j]) + '位'\n",
        "            else:\n",
        "                df_train['home_team_before_rank'][i] = 'J1昇格チーム'\n",
        "\n",
        "            if df_train['away_team'][i] in df_train_2007['チーム'].unique():\n",
        "                idx = df_train_2007[df_train_2007['節'] == '第34節'].iloc[0:]\n",
        "                idx = idx.reset_index(drop=True)\n",
        "                for j in range(len(idx)):\n",
        "                    if df_train['away_team'][i] == idx['チーム'][j]:\n",
        "                        df_train['away_team_before_rank'][i] = '前シーズン' + str(idx['順位'][j]) + '位'\n",
        "            else:\n",
        "                df_train['away_team_before_rank'][i] = 'J1昇格チーム'\n",
        "        else:\n",
        "            idx = df_train_2008[df_train_2008['節'] == '第' + str(int(df_train['section'][i][1:-1]) - 1) + '節'].iloc[0:]\n",
        "            idx = idx.reset_index(drop=True)\n",
        "            for j in range(len(idx)):\n",
        "                if df_train['home_team'][i] == idx['チーム'][j]:\n",
        "                    df_train['home_team_before_rank'][i] = str(idx['順位'][j]) + '位'\n",
        "                    df_train['ホーム勝ち点'][i] = idx['勝ち点'][j]\n",
        "                    df_train['ホーム得失点差'][i] = idx['得失点差'][j]\n",
        "                    df_train['ホーム総得点'][i] = idx['総得点'][j]\n",
        "                    df_train['ホーム失点'][i] = idx['失点'][j]\n",
        "                    df_train['ホーム勝数'][i] = idx['勝'][j]\n",
        "                    df_train['ホーム分数'][i] = idx['分'][j]\n",
        "                    df_train['ホーム負数'][i] = idx['負'][j]\n",
        "                    df_train['ホーム連勝'][i] = idx['連勝'][j]\n",
        "                    df_train['ホーム直近5試合勝数'][i] = idx['直近5試合勝数'][j]\n",
        "                    df_train['ホーム直近5試合負数'][i] = idx['直近5試合負数'][j]\n",
        "                elif df_train['away_team'][i] == idx['チーム'][j]:\n",
        "                    df_train['away_team_before_rank'][i] = str(idx['順位'][j]) + '位'\n",
        "                    df_train['アウェー勝ち点'][i] = idx['勝ち点'][j]\n",
        "                    df_train['アウェー得失点差'][i] = idx['得失点差'][j]\n",
        "                    df_train['アウェー総得点'][i] = idx['総得点'][j]\n",
        "                    df_train['アウェー失点'][i] = idx['失点'][j]\n",
        "                    df_train['アウェー勝数'][i] = idx['勝'][j]\n",
        "                    df_train['アウェー分数'][i] = idx['分'][j]\n",
        "                    df_train['アウェー負数'][i] = idx['負'][j]\n",
        "                    df_train['アウェー連勝'][i] = idx['連勝'][j]\n",
        "                    df_train['アウェー直近5試合勝数'][i] = idx['直近5試合勝数'][j]\n",
        "                    df_train['アウェー直近5試合負数'][i] = idx['直近5試合負数'][j]\n",
        "\n",
        "for i in range(len(df_train)):\n",
        "    if df_train['year'][i] == 2009:\n",
        "        if df_train['section'][i] == '第1節':\n",
        "            if df_train['home_team'][i] in df_train_2008['チーム'].unique():\n",
        "                idx = df_train_2008[df_train_2008['節'] == '第34節'].iloc[0:]\n",
        "                idx = idx.reset_index(drop=True)\n",
        "                for j in range(len(idx)):\n",
        "                    if df_train['home_team'][i] == idx['チーム'][j]:\n",
        "                        df_train['home_team_before_rank'][i] = '前シーズン' + str(idx['順位'][j]) + '位'\n",
        "            else:\n",
        "                df_train['home_team_before_rank'][i] = 'J1昇格チーム'\n",
        "\n",
        "            if df_train['away_team'][i] in df_train_2008['チーム'].unique():\n",
        "                idx = df_train_2008[df_train_2008['節'] == '第34節'].iloc[0:]\n",
        "                idx = idx.reset_index(drop=True)\n",
        "                for j in range(len(idx)):\n",
        "                    if df_train['away_team'][i] == idx['チーム'][j]:\n",
        "                        df_train['away_team_before_rank'][i] = '前シーズン' + str(idx['順位'][j]) + '位'\n",
        "            else:\n",
        "                df_train['away_team_before_rank'][i] = 'J1昇格チーム'\n",
        "        else:\n",
        "            idx = df_train_2009[df_train_2009['節'] == '第' + str(int(df_train['section'][i][1:-1]) - 1) + '節'].iloc[0:]\n",
        "            idx = idx.reset_index(drop=True)\n",
        "            for j in range(len(idx)):\n",
        "                if df_train['home_team'][i] == idx['チーム'][j]:\n",
        "                    df_train['home_team_before_rank'][i] = str(idx['順位'][j]) + '位'\n",
        "                    df_train['ホーム勝ち点'][i] = idx['勝ち点'][j]\n",
        "                    df_train['ホーム得失点差'][i] = idx['得失点差'][j]\n",
        "                    df_train['ホーム総得点'][i] = idx['総得点'][j]\n",
        "                    df_train['ホーム失点'][i] = idx['失点'][j]\n",
        "                    df_train['ホーム勝数'][i] = idx['勝'][j]\n",
        "                    df_train['ホーム分数'][i] = idx['分'][j]\n",
        "                    df_train['ホーム負数'][i] = idx['負'][j]\n",
        "                    df_train['ホーム連勝'][i] = idx['連勝'][j]\n",
        "                    df_train['ホーム直近5試合勝数'][i] = idx['直近5試合勝数'][j]\n",
        "                    df_train['ホーム直近5試合負数'][i] = idx['直近5試合負数'][j]\n",
        "                elif df_train['away_team'][i] == idx['チーム'][j]:\n",
        "                    df_train['away_team_before_rank'][i] = str(idx['順位'][j]) + '位'\n",
        "                    df_train['アウェー勝ち点'][i] = idx['勝ち点'][j]\n",
        "                    df_train['アウェー得失点差'][i] = idx['得失点差'][j]\n",
        "                    df_train['アウェー総得点'][i] = idx['総得点'][j]\n",
        "                    df_train['アウェー失点'][i] = idx['失点'][j]\n",
        "                    df_train['アウェー勝数'][i] = idx['勝'][j]\n",
        "                    df_train['アウェー分数'][i] = idx['分'][j]\n",
        "                    df_train['アウェー負数'][i] = idx['負'][j]\n",
        "                    df_train['アウェー連勝'][i] = idx['連勝'][j]\n",
        "                    df_train['アウェー直近5試合勝数'][i] = idx['直近5試合勝数'][j]\n",
        "                    df_train['アウェー直近5試合負数'][i] = idx['直近5試合負数'][j]\n",
        "\n",
        "for i in range(len(df_train)):\n",
        "    if df_train['year'][i] == 2010:\n",
        "        if df_train['section'][i] == '第1節':\n",
        "            if df_train['home_team'][i] in df_train_2009['チーム'].unique():\n",
        "                idx = df_train_2009[df_train_2009['節'] == '第34節'].iloc[0:]\n",
        "                idx = idx.reset_index(drop=True)\n",
        "                for j in range(len(idx)):\n",
        "                    if df_train['home_team'][i] == idx['チーム'][j]:\n",
        "                        df_train['home_team_before_rank'][i] = '前シーズン' + str(idx['順位'][j]) + '位'\n",
        "            else:\n",
        "                df_train['home_team_before_rank'][i] = 'J1昇格チーム'\n",
        "\n",
        "            if df_train['away_team'][i] in df_train_2009['チーム'].unique():\n",
        "                idx = df_train_2009[df_train_2009['節'] == '第34節'].iloc[0:]\n",
        "                idx = idx.reset_index(drop=True)\n",
        "                for j in range(len(idx)):\n",
        "                    if df_train['away_team'][i] == idx['チーム'][j]:\n",
        "                        df_train['away_team_before_rank'][i] = '前シーズン' + str(idx['順位'][j]) + '位'\n",
        "            else:\n",
        "                df_train['away_team_before_rank'][i] = 'J1昇格チーム'\n",
        "        else:\n",
        "            idx = df_train_2010[df_train_2010['節'] == '第' + str(int(df_train['section'][i][1:-1]) - 1) + '節'].iloc[0:]\n",
        "            idx = idx.reset_index(drop=True)\n",
        "            for j in range(len(idx)):\n",
        "                if df_train['home_team'][i] == idx['チーム'][j]:\n",
        "                    df_train['home_team_before_rank'][i] = str(idx['順位'][j]) + '位'\n",
        "                    df_train['ホーム勝ち点'][i] = idx['勝ち点'][j]\n",
        "                    df_train['ホーム得失点差'][i] = idx['得失点差'][j]\n",
        "                    df_train['ホーム総得点'][i] = idx['総得点'][j]\n",
        "                    df_train['ホーム失点'][i] = idx['失点'][j]\n",
        "                    df_train['ホーム勝数'][i] = idx['勝'][j]\n",
        "                    df_train['ホーム分数'][i] = idx['分'][j]\n",
        "                    df_train['ホーム負数'][i] = idx['負'][j]\n",
        "                    df_train['ホーム連勝'][i] = idx['連勝'][j]\n",
        "                    df_train['ホーム直近5試合勝数'][i] = idx['直近5試合勝数'][j]\n",
        "                    df_train['ホーム直近5試合負数'][i] = idx['直近5試合負数'][j]\n",
        "                elif df_train['away_team'][i] == idx['チーム'][j]:\n",
        "                    df_train['away_team_before_rank'][i] = str(idx['順位'][j]) + '位'\n",
        "                    df_train['アウェー勝ち点'][i] = idx['勝ち点'][j]\n",
        "                    df_train['アウェー得失点差'][i] = idx['得失点差'][j]\n",
        "                    df_train['アウェー総得点'][i] = idx['総得点'][j]\n",
        "                    df_train['アウェー失点'][i] = idx['失点'][j]\n",
        "                    df_train['アウェー勝数'][i] = idx['勝'][j]\n",
        "                    df_train['アウェー分数'][i] = idx['分'][j]\n",
        "                    df_train['アウェー負数'][i] = idx['負'][j]\n",
        "                    df_train['アウェー連勝'][i] = idx['連勝'][j]\n",
        "                    df_train['アウェー直近5試合勝数'][i] = idx['直近5試合勝数'][j]\n",
        "                    df_train['アウェー直近5試合負数'][i] = idx['直近5試合負数'][j]\n",
        "\n",
        "for i in range(len(df_train)):\n",
        "    if df_train['year'][i] == 2011:\n",
        "        if df_train['section'][i] == '第1節':\n",
        "            if df_train['home_team'][i] in df_train_2010['チーム'].unique():\n",
        "                idx = df_train_2010[df_train_2010['節'] == '第34節'].iloc[0:]\n",
        "                idx = idx.reset_index(drop=True)\n",
        "                for j in range(len(idx)):\n",
        "                    if df_train['home_team'][i] == idx['チーム'][j]:\n",
        "                        df_train['home_team_before_rank'][i] = '前シーズン' + str(idx['順位'][j]) + '位'\n",
        "            else:\n",
        "                df_train['home_team_before_rank'][i] = 'J1昇格チーム'\n",
        "\n",
        "            if df_train['away_team'][i] in df_train_2010['チーム'].unique():\n",
        "                idx = df_train_2010[df_train_2010['節'] == '第34節'].iloc[0:]\n",
        "                idx = idx.reset_index(drop=True)\n",
        "                for j in range(len(idx)):\n",
        "                    if df_train['away_team'][i] == idx['チーム'][j]:\n",
        "                        df_train['away_team_before_rank'][i] = '前シーズン' + str(idx['順位'][j]) + '位'\n",
        "            else:\n",
        "                df_train['away_team_before_rank'][i] = 'J1昇格チーム'\n",
        "        else:\n",
        "            idx = df_train_2011[df_train_2011['節'] == '第' + str(int(df_train['section'][i][1:-1]) - 1) + '節'].iloc[0:]\n",
        "            idx = idx.reset_index(drop=True)\n",
        "            for j in range(len(idx)):\n",
        "                if df_train['home_team'][i] == idx['チーム'][j]:\n",
        "                    df_train['home_team_before_rank'][i] = str(idx['順位'][j]) + '位'\n",
        "                    df_train['ホーム勝ち点'][i] = idx['勝ち点'][j]\n",
        "                    df_train['ホーム得失点差'][i] = idx['得失点差'][j]\n",
        "                    df_train['ホーム総得点'][i] = idx['総得点'][j]\n",
        "                    df_train['ホーム失点'][i] = idx['失点'][j]\n",
        "                    df_train['ホーム勝数'][i] = idx['勝'][j]\n",
        "                    df_train['ホーム分数'][i] = idx['分'][j]\n",
        "                    df_train['ホーム負数'][i] = idx['負'][j]\n",
        "                    df_train['ホーム連勝'][i] = idx['連勝'][j]\n",
        "                    df_train['ホーム直近5試合勝数'][i] = idx['直近5試合勝数'][j]\n",
        "                    df_train['ホーム直近5試合負数'][i] = idx['直近5試合負数'][j]\n",
        "                elif df_train['away_team'][i] == idx['チーム'][j]:\n",
        "                    df_train['away_team_before_rank'][i] = str(idx['順位'][j]) + '位'\n",
        "                    df_train['アウェー勝ち点'][i] = idx['勝ち点'][j]\n",
        "                    df_train['アウェー得失点差'][i] = idx['得失点差'][j]\n",
        "                    df_train['アウェー総得点'][i] = idx['総得点'][j]\n",
        "                    df_train['アウェー失点'][i] = idx['失点'][j]\n",
        "                    df_train['アウェー勝数'][i] = idx['勝'][j]\n",
        "                    df_train['アウェー分数'][i] = idx['分'][j]\n",
        "                    df_train['アウェー負数'][i] = idx['負'][j]\n",
        "                    df_train['アウェー連勝'][i] = idx['連勝'][j]\n",
        "                    df_train['アウェー直近5試合勝数'][i] = idx['直近5試合勝数'][j]\n",
        "                    df_train['アウェー直近5試合負数'][i] = idx['直近5試合負数'][j]\n",
        "\n",
        "for i in range(len(df_train)):\n",
        "    if df_train['year'][i] == 2012:\n",
        "        if df_train['section'][i] == '第1節':\n",
        "            if df_train['home_team'][i] in df_train_2011['チーム'].unique():\n",
        "                idx = df_train_2011[df_train_2011['節'] == '第34節'].iloc[0:]\n",
        "                idx = idx.reset_index(drop=True)\n",
        "                for j in range(len(idx)):\n",
        "                    if df_train['home_team'][i] == idx['チーム'][j]:\n",
        "                        df_train['home_team_before_rank'][i] = '前シーズン' + str(idx['順位'][j]) + '位'\n",
        "            else:\n",
        "                df_train['home_team_before_rank'][i] = 'J1昇格チーム'\n",
        "\n",
        "            if df_train['away_team'][i] in df_train_2011['チーム'].unique():\n",
        "                idx = df_train_2011[df_train_2011['節'] == '第34節'].iloc[0:]\n",
        "                idx = idx.reset_index(drop=True)\n",
        "                for j in range(len(idx)):\n",
        "                    if df_train['away_team'][i] == idx['チーム'][j]:\n",
        "                        df_train['away_team_before_rank'][i] = '前シーズン' + str(idx['順位'][j]) + '位'\n",
        "            else:\n",
        "                df_train['away_team_before_rank'][i] = 'J1昇格チーム'\n",
        "        else:\n",
        "            idx = df_train_2012[df_train_2012['節'] == '第' + str(int(df_train['section'][i][1:-1]) - 1) + '節'].iloc[0:]\n",
        "            idx = idx.reset_index(drop=True)\n",
        "            for j in range(len(idx)):\n",
        "                if df_train['home_team'][i] == idx['チーム'][j]:\n",
        "                    df_train['home_team_before_rank'][i] = str(idx['順位'][j]) + '位'\n",
        "                    df_train['ホーム勝ち点'][i] = idx['勝ち点'][j]\n",
        "                    df_train['ホーム得失点差'][i] = idx['得失点差'][j]\n",
        "                    df_train['ホーム総得点'][i] = idx['総得点'][j]\n",
        "                    df_train['ホーム失点'][i] = idx['失点'][j]\n",
        "                    df_train['ホーム勝数'][i] = idx['勝'][j]\n",
        "                    df_train['ホーム分数'][i] = idx['分'][j]\n",
        "                    df_train['ホーム負数'][i] = idx['負'][j]\n",
        "                    df_train['ホーム連勝'][i] = idx['連勝'][j]\n",
        "                    df_train['ホーム直近5試合勝数'][i] = idx['直近5試合勝数'][j]\n",
        "                    df_train['ホーム直近5試合負数'][i] = idx['直近5試合負数'][j]\n",
        "                elif df_train['away_team'][i] == idx['チーム'][j]:\n",
        "                    df_train['away_team_before_rank'][i] = str(idx['順位'][j]) + '位'\n",
        "                    df_train['アウェー勝ち点'][i] = idx['勝ち点'][j]\n",
        "                    df_train['アウェー得失点差'][i] = idx['得失点差'][j]\n",
        "                    df_train['アウェー総得点'][i] = idx['総得点'][j]\n",
        "                    df_train['アウェー失点'][i] = idx['失点'][j]\n",
        "                    df_train['アウェー勝数'][i] = idx['勝'][j]\n",
        "                    df_train['アウェー分数'][i] = idx['分'][j]\n",
        "                    df_train['アウェー負数'][i] = idx['負'][j]\n",
        "                    df_train['アウェー連勝'][i] = idx['連勝'][j]\n",
        "                    df_train['アウェー直近5試合勝数'][i] = idx['直近5試合勝数'][j]\n",
        "                    df_train['アウェー直近5試合負数'][i] = idx['直近5試合負数'][j]\n",
        "\n",
        "for i in range(len(df_train)):\n",
        "    if df_train['year'][i] == 2013:\n",
        "        if df_train['section'][i] == '第1節':\n",
        "            if df_train['home_team'][i] in df_train_2012['チーム'].unique():\n",
        "                idx = df_train_2012[df_train_2012['節'] == '第34節'].iloc[0:]\n",
        "                idx = idx.reset_index(drop=True)\n",
        "                for j in range(len(idx)):\n",
        "                    if df_train['home_team'][i] == idx['チーム'][j]:\n",
        "                        df_train['home_team_before_rank'][i] = '前シーズン' + str(idx['順位'][j]) + '位'\n",
        "            else:\n",
        "                df_train['home_team_before_rank'][i] = 'J1昇格チーム'\n",
        "\n",
        "            if df_train['away_team'][i] in df_train_2012['チーム'].unique():\n",
        "                idx = df_train_2012[df_train_2012['節'] == '第34節'].iloc[0:]\n",
        "                idx = idx.reset_index(drop=True)\n",
        "                for j in range(len(idx)):\n",
        "                    if df_train['away_team'][i] == idx['チーム'][j]:\n",
        "                        df_train['away_team_before_rank'][i] = '前シーズン' + str(idx['順位'][j]) + '位'\n",
        "            else:\n",
        "                df_train['away_team_before_rank'][i] = 'J1昇格チーム'\n",
        "        else:\n",
        "            idx = df_train_2013[df_train_2013['節'] == '第' + str(int(df_train['section'][i][1:-1]) - 1) + '節'].iloc[0:]\n",
        "            idx = idx.reset_index(drop=True)\n",
        "            for j in range(len(idx)):\n",
        "                if df_train['home_team'][i] == idx['チーム'][j]:\n",
        "                    df_train['home_team_before_rank'][i] = str(idx['順位'][j]) + '位'\n",
        "                    df_train['ホーム勝ち点'][i] = idx['勝ち点'][j]\n",
        "                    df_train['ホーム得失点差'][i] = idx['得失点差'][j]\n",
        "                    df_train['ホーム総得点'][i] = idx['総得点'][j]\n",
        "                    df_train['ホーム失点'][i] = idx['失点'][j]\n",
        "                    df_train['ホーム勝数'][i] = idx['勝'][j]\n",
        "                    df_train['ホーム分数'][i] = idx['分'][j]\n",
        "                    df_train['ホーム負数'][i] = idx['負'][j]\n",
        "                    df_train['ホーム連勝'][i] = idx['連勝'][j]\n",
        "                    df_train['ホーム直近5試合勝数'][i] = idx['直近5試合勝数'][j]\n",
        "                    df_train['ホーム直近5試合負数'][i] = idx['直近5試合負数'][j]\n",
        "                elif df_train['away_team'][i] == idx['チーム'][j]:\n",
        "                    df_train['away_team_before_rank'][i] = str(idx['順位'][j]) + '位'\n",
        "                    df_train['アウェー勝ち点'][i] = idx['勝ち点'][j]\n",
        "                    df_train['アウェー得失点差'][i] = idx['得失点差'][j]\n",
        "                    df_train['アウェー総得点'][i] = idx['総得点'][j]\n",
        "                    df_train['アウェー失点'][i] = idx['失点'][j]\n",
        "                    df_train['アウェー勝数'][i] = idx['勝'][j]\n",
        "                    df_train['アウェー分数'][i] = idx['分'][j]\n",
        "                    df_train['アウェー負数'][i] = idx['負'][j]\n",
        "                    df_train['アウェー連勝'][i] = idx['連勝'][j]\n",
        "                    df_train['アウェー直近5試合勝数'][i] = idx['直近5試合勝数'][j]\n",
        "                    df_train['アウェー直近5試合負数'][i] = idx['直近5試合負数'][j]\n",
        "\n",
        "for i in range(len(df_train)):\n",
        "    if df_train['year'][i] == 2014:\n",
        "        if df_train['section'][i] == '第1節':\n",
        "            if df_train['home_team'][i] in df_train_2013['チーム'].unique():\n",
        "                idx = df_train_2013[df_train_2013['節'] == '第34節'].iloc[0:]\n",
        "                idx = idx.reset_index(drop=True)\n",
        "                for j in range(len(idx)):\n",
        "                    if df_train['home_team'][i] == idx['チーム'][j]:\n",
        "                        df_train['home_team_before_rank'][i] = '前シーズン' + str(idx['順位'][j]) + '位'\n",
        "            else:\n",
        "                df_train['home_team_before_rank'][i] = 'J1昇格チーム'\n",
        "\n",
        "            if df_train['away_team'][i] in df_train_2013['チーム'].unique():\n",
        "                idx = df_train_2013[df_train_2013['節'] == '第34節'].iloc[0:]\n",
        "                idx = idx.reset_index(drop=True)\n",
        "                for j in range(len(idx)):\n",
        "                    if df_train['away_team'][i] == idx['チーム'][j]:\n",
        "                        df_train['away_team_before_rank'][i] = '前シーズン' + str(idx['順位'][j]) + '位'\n",
        "            else:\n",
        "                df_train['away_team_before_rank'][i] = 'J1昇格チーム'\n",
        "        else:\n",
        "            idx = df_train_2014[df_train_2014['節'] == '第' + str(int(df_train['section'][i][1:-1]) - 1) + '節'].iloc[0:]\n",
        "            idx = idx.reset_index(drop=True)\n",
        "            for j in range(len(idx)):\n",
        "                if df_train['home_team'][i] == idx['チーム'][j]:\n",
        "                    df_train['home_team_before_rank'][i] = str(idx['順位'][j]) + '位'\n",
        "                    df_train['ホーム勝ち点'][i] = idx['勝ち点'][j]\n",
        "                    df_train['ホーム得失点差'][i] = idx['得失点差'][j]\n",
        "                    df_train['ホーム総得点'][i] = idx['総得点'][j]\n",
        "                    df_train['ホーム失点'][i] = idx['失点'][j]\n",
        "                    df_train['ホーム勝数'][i] = idx['勝'][j]\n",
        "                    df_train['ホーム分数'][i] = idx['分'][j]\n",
        "                    df_train['ホーム負数'][i] = idx['負'][j]\n",
        "                    df_train['ホーム連勝'][i] = idx['連勝'][j]\n",
        "                    df_train['ホーム直近5試合勝数'][i] = idx['直近5試合勝数'][j]\n",
        "                    df_train['ホーム直近5試合負数'][i] = idx['直近5試合負数'][j]\n",
        "                elif df_train['away_team'][i] == idx['チーム'][j]:\n",
        "                    df_train['away_team_before_rank'][i] = str(idx['順位'][j]) + '位'\n",
        "                    df_train['アウェー勝ち点'][i] = idx['勝ち点'][j]\n",
        "                    df_train['アウェー得失点差'][i] = idx['得失点差'][j]\n",
        "                    df_train['アウェー総得点'][i] = idx['総得点'][j]\n",
        "                    df_train['アウェー失点'][i] = idx['失点'][j]\n",
        "                    df_train['アウェー勝数'][i] = idx['勝'][j]\n",
        "                    df_train['アウェー分数'][i] = idx['分'][j]\n",
        "                    df_train['アウェー負数'][i] = idx['負'][j]\n",
        "                    df_train['アウェー連勝'][i] = idx['連勝'][j]\n",
        "                    df_train['アウェー直近5試合勝数'][i] = idx['直近5試合勝数'][j]\n",
        "                    df_train['アウェー直近5試合負数'][i] = idx['直近5試合負数'][j]\n",
        "\n",
        "for i in range(len(df_train)):\n",
        "    if df_train['year'][i] == 2015:\n",
        "        if df_train['section'][i] == '第1節':\n",
        "            if df_train['home_team'][i] in df_train_2014['チーム'].unique():\n",
        "                idx = df_train_2014[df_train_2014['節'] == '第34節'].iloc[0:]\n",
        "                idx = idx.reset_index(drop=True)\n",
        "                for j in range(len(idx)):\n",
        "                    if df_train['home_team'][i] == idx['チーム'][j]:\n",
        "                        df_train['home_team_before_rank'][i] = '前シーズン' + str(idx['順位'][j]) + '位'\n",
        "            else:\n",
        "                df_train['home_team_before_rank'][i] = 'J1昇格チーム'\n",
        "\n",
        "            if df_train['away_team'][i] in df_train_2014['チーム'].unique():\n",
        "                idx = df_train_2014[df_train_2014['節'] == '第34節'].iloc[0:]\n",
        "                idx = idx.reset_index(drop=True)\n",
        "                for j in range(len(idx)):\n",
        "                    if df_train['away_team'][i] == idx['チーム'][j]:\n",
        "                        df_train['away_team_before_rank'][i] = '前シーズン' + str(idx['順位'][j]) + '位'\n",
        "            else:\n",
        "                df_train['away_team_before_rank'][i] = 'J1昇格チーム'\n",
        "        else:\n",
        "            idx = df_train_2015[df_train_2015['節'] == '第' + str(int(df_train['section'][i][1:-1]) - 1) + '節'].iloc[0:]\n",
        "            idx = idx.reset_index(drop=True)\n",
        "            for j in range(len(idx)):\n",
        "                if df_train['home_team'][i] == idx['チーム'][j]:\n",
        "                    df_train['home_team_before_rank'][i] = str(idx['順位'][j]) + '位'\n",
        "                    df_train['ホーム勝ち点'][i] = idx['勝ち点'][j]\n",
        "                    df_train['ホーム得失点差'][i] = idx['得失点差'][j]\n",
        "                    df_train['ホーム総得点'][i] = idx['総得点'][j]\n",
        "                    df_train['ホーム失点'][i] = idx['失点'][j]\n",
        "                    df_train['ホーム勝数'][i] = idx['勝'][j]\n",
        "                    df_train['ホーム分数'][i] = idx['分'][j]\n",
        "                    df_train['ホーム負数'][i] = idx['負'][j]\n",
        "                    df_train['ホーム連勝'][i] = idx['連勝'][j]\n",
        "                    df_train['ホーム直近5試合勝数'][i] = idx['直近5試合勝数'][j]\n",
        "                    df_train['ホーム直近5試合負数'][i] = idx['直近5試合負数'][j]\n",
        "                elif df_train['away_team'][i] == idx['チーム'][j]:\n",
        "                    df_train['away_team_before_rank'][i] = str(idx['順位'][j]) + '位'\n",
        "                    df_train['アウェー勝ち点'][i] = idx['勝ち点'][j]\n",
        "                    df_train['アウェー得失点差'][i] = idx['得失点差'][j]\n",
        "                    df_train['アウェー総得点'][i] = idx['総得点'][j]\n",
        "                    df_train['アウェー失点'][i] = idx['失点'][j]\n",
        "                    df_train['アウェー勝数'][i] = idx['勝'][j]\n",
        "                    df_train['アウェー分数'][i] = idx['分'][j]\n",
        "                    df_train['アウェー負数'][i] = idx['負'][j]\n",
        "                    df_train['アウェー連勝'][i] = idx['連勝'][j]\n",
        "                    df_train['アウェー直近5試合勝数'][i] = idx['直近5試合勝数'][j]\n",
        "                    df_train['アウェー直近5試合負数'][i] = idx['直近5試合負数'][j]\n",
        "\n",
        "for i in range(len(df_train)):\n",
        "    if df_train['year'][i] == 2016:\n",
        "        if df_train['section'][i] == '第1節':\n",
        "            if df_train['home_team'][i] in df_train_2015['チーム'].unique():\n",
        "                idx = df_train_2015[df_train_2015['節'] == '第34節'].iloc[0:]\n",
        "                idx = idx.reset_index(drop=True)\n",
        "                for j in range(len(idx)):\n",
        "                    if df_train['home_team'][i] == idx['チーム'][j]:\n",
        "                        df_train['home_team_before_rank'][i] = '前シーズン' + str(idx['順位'][j]) + '位'\n",
        "            else:\n",
        "                df_train['home_team_before_rank'][i] = 'J1昇格チーム'\n",
        "\n",
        "            if df_train['away_team'][i] in df_train_2015['チーム'].unique():\n",
        "                idx = df_train_2015[df_train_2015['節'] == '第34節'].iloc[0:]\n",
        "                idx = idx.reset_index(drop=True)\n",
        "                for j in range(len(idx)):\n",
        "                    if df_train['away_team'][i] == idx['チーム'][j]:\n",
        "                        df_train['away_team_before_rank'][i] = '前シーズン' + str(idx['順位'][j]) + '位'\n",
        "            else:\n",
        "                df_train['away_team_before_rank'][i] = 'J1昇格チーム'\n",
        "        else:\n",
        "            idx = df_train_2016[df_train_2016['節'] == '第' + str(int(df_train['section'][i][1:-1]) - 1) + '節'].iloc[0:]\n",
        "            idx = idx.reset_index(drop=True)\n",
        "            for j in range(len(idx)):\n",
        "                if df_train['home_team'][i] == idx['チーム'][j]:\n",
        "                    df_train['home_team_before_rank'][i] = str(idx['順位'][j]) + '位'\n",
        "                    df_train['ホーム勝ち点'][i] = idx['勝ち点'][j]\n",
        "                    df_train['ホーム得失点差'][i] = idx['得失点差'][j]\n",
        "                    df_train['ホーム総得点'][i] = idx['総得点'][j]\n",
        "                    df_train['ホーム失点'][i] = idx['失点'][j]\n",
        "                    df_train['ホーム勝数'][i] = idx['勝'][j]\n",
        "                    df_train['ホーム分数'][i] = idx['分'][j]\n",
        "                    df_train['ホーム負数'][i] = idx['負'][j]\n",
        "                    df_train['ホーム連勝'][i] = idx['連勝'][j]\n",
        "                    df_train['ホーム直近5試合勝数'][i] = idx['直近5試合勝数'][j]\n",
        "                    df_train['ホーム直近5試合負数'][i] = idx['直近5試合負数'][j]\n",
        "                elif df_train['away_team'][i] == idx['チーム'][j]:\n",
        "                    df_train['away_team_before_rank'][i] = str(idx['順位'][j]) + '位'\n",
        "                    df_train['アウェー勝ち点'][i] = idx['勝ち点'][j]\n",
        "                    df_train['アウェー得失点差'][i] = idx['得失点差'][j]\n",
        "                    df_train['アウェー総得点'][i] = idx['総得点'][j]\n",
        "                    df_train['アウェー失点'][i] = idx['失点'][j]\n",
        "                    df_train['アウェー勝数'][i] = idx['勝'][j]\n",
        "                    df_train['アウェー分数'][i] = idx['分'][j]\n",
        "                    df_train['アウェー負数'][i] = idx['負'][j]\n",
        "                    df_train['アウェー連勝'][i] = idx['連勝'][j]\n",
        "                    df_train['アウェー直近5試合勝数'][i] = idx['直近5試合勝数'][j]\n",
        "                    df_train['アウェー直近5試合負数'][i] = idx['直近5試合負数'][j]\n",
        "\n",
        "for i in range(len(df_train)):\n",
        "    if df_train['year'][i] == 2017:\n",
        "        if df_train['section'][i] == '第1節':\n",
        "            if df_train['home_team'][i] in df_train_2016['チーム'].unique():\n",
        "                idx = df_train_2016[df_train_2016['節'] == '第34節'].iloc[0:]\n",
        "                idx = idx.reset_index(drop=True)\n",
        "                for j in range(len(idx)):\n",
        "                    if df_train['home_team'][i] == idx['チーム'][j]:\n",
        "                        df_train['home_team_before_rank'][i] = '前シーズン' + str(idx['順位'][j]) + '位'\n",
        "            else:\n",
        "                df_train['home_team_before_rank'][i] = 'J1昇格チーム'\n",
        "\n",
        "            if df_train['away_team'][i] in df_train_2016['チーム'].unique():\n",
        "                idx = df_train_2016[df_train_2016['節'] == '第34節'].iloc[0:]\n",
        "                idx = idx.reset_index(drop=True)\n",
        "                for j in range(len(idx)):\n",
        "                    if df_train['away_team'][i] == idx['チーム'][j]:\n",
        "                        df_train['away_team_before_rank'][i] = '前シーズン' + str(idx['順位'][j]) + '位'\n",
        "            else:\n",
        "                df_train['away_team_before_rank'][i] = 'J1昇格チーム'\n",
        "        else:\n",
        "            idx = df_train_2017[df_train_2017['節'] == '第' + str(int(df_train['section'][i][1:-1]) - 1) + '節'].iloc[0:]\n",
        "            idx = idx.reset_index(drop=True)\n",
        "            for j in range(len(idx)):\n",
        "                if df_train['home_team'][i] == idx['チーム'][j]:\n",
        "                    df_train['home_team_before_rank'][i] = str(idx['順位'][j]) + '位'\n",
        "                    df_train['ホーム勝ち点'][i] = idx['勝ち点'][j]\n",
        "                    df_train['ホーム得失点差'][i] = idx['得失点差'][j]\n",
        "                    df_train['ホーム総得点'][i] = idx['総得点'][j]\n",
        "                    df_train['ホーム失点'][i] = idx['失点'][j]\n",
        "                    df_train['ホーム勝数'][i] = idx['勝'][j]\n",
        "                    df_train['ホーム分数'][i] = idx['分'][j]\n",
        "                    df_train['ホーム負数'][i] = idx['負'][j]\n",
        "                    df_train['ホーム連勝'][i] = idx['連勝'][j]\n",
        "                    df_train['ホーム直近5試合勝数'][i] = idx['直近5試合勝数'][j]\n",
        "                    df_train['ホーム直近5試合負数'][i] = idx['直近5試合負数'][j]\n",
        "                elif df_train['away_team'][i] == idx['チーム'][j]:\n",
        "                    df_train['away_team_before_rank'][i] = str(idx['順位'][j]) + '位'\n",
        "                    df_train['アウェー勝ち点'][i] = idx['勝ち点'][j]\n",
        "                    df_train['アウェー得失点差'][i] = idx['得失点差'][j]\n",
        "                    df_train['アウェー総得点'][i] = idx['総得点'][j]\n",
        "                    df_train['アウェー失点'][i] = idx['失点'][j]\n",
        "                    df_train['アウェー勝数'][i] = idx['勝'][j]\n",
        "                    df_train['アウェー分数'][i] = idx['分'][j]\n",
        "                    df_train['アウェー負数'][i] = idx['負'][j]\n",
        "                    df_train['アウェー連勝'][i] = idx['連勝'][j]\n",
        "                    df_train['アウェー直近5試合勝数'][i] = idx['直近5試合勝数'][j]\n",
        "                    df_train['アウェー直近5試合負数'][i] = idx['直近5試合負数'][j]\n",
        "\n",
        "for i in range(len(df_test)):\n",
        "    if df_test['year'][i] == 2018:\n",
        "        if df_test['section'][i] == '第1節':\n",
        "            if df_test['home_team'][i] in df_train_2017['チーム'].unique():\n",
        "                idx = df_train_2017[df_train_2017['節'] == '第34節'].iloc[0:]\n",
        "                idx = idx.reset_index(drop=True)\n",
        "                for j in range(len(idx)):\n",
        "                    if df_test['home_team'][i] == idx['チーム'][j]:\n",
        "                        df_test['home_team_before_rank'][i] = '前シーズン' + str(idx['順位'][j]) + '位'\n",
        "            else:\n",
        "                df_test['home_team_before_rank'][i] = 'J1昇格チーム'\n",
        "\n",
        "            if df_test['away_team'][i] in df_train_2017['チーム'].unique():\n",
        "                idx = df_train_2017[df_train_2017['節'] == '第34節'].iloc[0:]\n",
        "                idx = idx.reset_index(drop=True)\n",
        "                for j in range(len(idx)):\n",
        "                    if df_test['away_team'][i] == idx['チーム'][j]:\n",
        "                        df_test['away_team_before_rank'][i] = '前シーズン' + str(idx['順位'][j]) + '位'\n",
        "            else:\n",
        "                df_test['away_team_before_rank'][i] = 'J1昇格チーム'\n",
        "        else:\n",
        "            idx = df_test_2018[df_test_2018['節'] == '第' + str(int(df_test['section'][i][1:-1]) - 1) + '節'].iloc[0:]\n",
        "            idx = idx.reset_index(drop=True)\n",
        "            for j in range(len(idx)):\n",
        "                if df_test['home_team'][i] == idx['チーム'][j]:\n",
        "                    df_test['home_team_before_rank'][i] = str(idx['順位'][j]) + '位'\n",
        "                    df_test['ホーム勝ち点'][i] = idx['勝ち点'][j]\n",
        "                    df_test['ホーム得失点差'][i] = idx['得失点差'][j]\n",
        "                    df_test['ホーム総得点'][i] = idx['総得点'][j]\n",
        "                    df_test['ホーム失点'][i] = idx['失点'][j]\n",
        "                    df_test['ホーム勝数'][i] = idx['勝'][j]\n",
        "                    df_test['ホーム分数'][i] = idx['分'][j]\n",
        "                    df_test['ホーム負数'][i] = idx['負'][j]\n",
        "                    df_test['ホーム連勝'][i] = idx['連勝'][j]\n",
        "                    df_test['ホーム直近5試合勝数'][i] = idx['直近5試合勝数'][j]\n",
        "                    df_test['ホーム直近5試合負数'][i] = idx['直近5試合負数'][j]\n",
        "                elif df_test['away_team'][i] == idx['チーム'][j]:\n",
        "                    df_test['away_team_before_rank'][i] = str(idx['順位'][j]) + '位'\n",
        "                    df_test['アウェー勝ち点'][i] = idx['勝ち点'][j]\n",
        "                    df_test['アウェー得失点差'][i] = idx['得失点差'][j]\n",
        "                    df_test['アウェー総得点'][i] = idx['総得点'][j]\n",
        "                    df_test['アウェー失点'][i] = idx['失点'][j]\n",
        "                    df_test['アウェー勝数'][i] = idx['勝'][j]\n",
        "                    df_test['アウェー分数'][i] = idx['分'][j]\n",
        "                    df_test['アウェー負数'][i] = idx['負'][j]\n",
        "                    df_test['アウェー連勝'][i] = idx['連勝'][j]\n",
        "                    df_test['アウェー直近5試合勝数'][i] = idx['直近5試合勝数'][j]\n",
        "                    df_test['アウェー直近5試合負数'][i] = idx['直近5試合負数'][j]\n",
        "\n",
        "for i in range(len(df_test)):\n",
        "    if df_test['year'][i] == 2019:\n",
        "        if df_test['section'][i] == '第1節':\n",
        "            if df_test['home_team'][i] in df_test_2018['チーム'].unique():\n",
        "                idx = df_test_2018[df_test_2018['節'] == '第34節'].iloc[0:]\n",
        "                idx = idx.reset_index(drop=True)\n",
        "                for j in range(len(idx)):\n",
        "                    if df_test['home_team'][i] == idx['チーム'][j]:\n",
        "                        df_test['home_team_before_rank'][i] = '前シーズン' + str(idx['順位'][j]) + '位'\n",
        "            else:\n",
        "                df_test['home_team_before_rank'][i] = 'J1昇格チーム'\n",
        "\n",
        "            if df_test['away_team'][i] in df_test_2018['チーム'].unique():\n",
        "                idx = df_test_2018[df_test_2018['節'] == '第34節'].iloc[0:]\n",
        "                idx = idx.reset_index(drop=True)\n",
        "                for j in range(len(idx)):\n",
        "                    if df_test['away_team'][i] == idx['チーム'][j]:\n",
        "                        df_test['away_team_before_rank'][i] = '前シーズン' + str(idx['順位'][j]) + '位'\n",
        "            else:\n",
        "                df_test['away_team_before_rank'][i] = 'J1昇格チーム'\n",
        "        else:\n",
        "            idx = df_test_2019[df_test_2019['節'] == '第' + str(int(df_test['section'][i][1:-1]) - 1) + '節'].iloc[0:]\n",
        "            idx = idx.reset_index(drop=True)\n",
        "            for j in range(len(idx)):\n",
        "                if df_test['home_team'][i] == idx['チーム'][j]:\n",
        "                    df_test['home_team_before_rank'][i] = str(idx['順位'][j]) + '位'\n",
        "                    df_test['ホーム勝ち点'][i] = idx['勝ち点'][j]\n",
        "                    df_test['ホーム得失点差'][i] = idx['得失点差'][j]\n",
        "                    df_test['ホーム総得点'][i] = idx['総得点'][j]\n",
        "                    df_test['ホーム失点'][i] = idx['失点'][j]\n",
        "                    df_test['ホーム勝数'][i] = idx['勝'][j]\n",
        "                    df_test['ホーム分数'][i] = idx['分'][j]\n",
        "                    df_test['ホーム負数'][i] = idx['負'][j]\n",
        "                    df_test['ホーム連勝'][i] = idx['連勝'][j]\n",
        "                    df_test['ホーム直近5試合勝数'][i] = idx['直近5試合勝数'][j]\n",
        "                    df_test['ホーム直近5試合負数'][i] = idx['直近5試合負数'][j]\n",
        "                elif df_test['away_team'][i] == idx['チーム'][j]:\n",
        "                    df_test['away_team_before_rank'][i] = str(idx['順位'][j]) + '位'\n",
        "                    df_test['アウェー勝ち点'][i] = idx['勝ち点'][j]\n",
        "                    df_test['アウェー得失点差'][i] = idx['得失点差'][j]\n",
        "                    df_test['アウェー総得点'][i] = idx['総得点'][j]\n",
        "                    df_test['アウェー失点'][i] = idx['失点'][j]\n",
        "                    df_test['アウェー勝数'][i] = idx['勝'][j]\n",
        "                    df_test['アウェー分数'][i] = idx['分'][j]\n",
        "                    df_test['アウェー負数'][i] = idx['負'][j]\n",
        "                    df_test['アウェー連勝'][i] = idx['連勝'][j]\n",
        "                    df_test['アウェー直近5試合勝数'][i] = idx['直近5試合勝数'][j]\n",
        "                    df_test['アウェー直近5試合負数'][i] = idx['直近5試合負数'][j]"
      ]
    },
    {
      "cell_type": "code",
      "execution_count": null,
      "id": "f5d2ddbd",
      "metadata": {
        "id": "f5d2ddbd"
      },
      "outputs": [],
      "source": [
        "df_train['勝ち点差'] = 0\n",
        "df_train['勝ち点差'] = df_train['ホーム勝ち点'] - df_train['アウェー勝ち点']\n",
        "df_test['勝ち点差'] = 0\n",
        "df_test['勝ち点差'] = df_test['ホーム勝ち点'] - df_test['アウェー勝ち点']"
      ]
    },
    {
      "cell_type": "code",
      "execution_count": null,
      "id": "90965ce2",
      "metadata": {
        "id": "90965ce2"
      },
      "outputs": [],
      "source": [
        "df_train['勝ち点差の絶対値'] = 0\n",
        "df_train['勝ち点差の絶対値'] = abs(df_train['勝ち点差'])\n",
        "df_test['勝ち点差の絶対値'] = 0\n",
        "df_test['勝ち点差の絶対値'] = abs(df_test['勝ち点差'])"
      ]
    },
    {
      "cell_type": "markdown",
      "id": "efe71dd4",
      "metadata": {
        "id": "efe71dd4"
      },
      "source": [
        "## 優勝争い"
      ]
    },
    {
      "cell_type": "code",
      "execution_count": null,
      "id": "63a8ff6b",
      "metadata": {
        "id": "63a8ff6b"
      },
      "outputs": [],
      "source": [
        "df_train['優勝争い'] = 0\n",
        "df_test['優勝争い'] = 0\n",
        "\n",
        "for i in range(len(df_train)):\n",
        "    if df_train['home_team_before_rank'][i] in ['1位', '2位', '3位']:\n",
        "        if df_train['away_team_before_rank'][i] in ['1位', '2位', '3位']:\n",
        "            df_train['優勝争い'][i] = 1\n",
        "\n",
        "for i in range(len(df_test)):\n",
        "    if df_test['home_team_before_rank'][i] in ['1位', '2位', '3位']:\n",
        "        if df_test['away_team_before_rank'][i] in ['1位', '2位', '3位']:\n",
        "            df_test['優勝争い'][i] = 1"
      ]
    },
    {
      "cell_type": "markdown",
      "id": "4e942221",
      "metadata": {
        "id": "4e942221"
      },
      "source": [
        "## 残留争い"
      ]
    },
    {
      "cell_type": "code",
      "execution_count": null,
      "id": "50fdaa37",
      "metadata": {
        "id": "50fdaa37"
      },
      "outputs": [],
      "source": [
        "df_train['残留争い'] = 0\n",
        "df_test['残留争い'] = 0\n",
        "\n",
        "for i in range(len(df_train)):\n",
        "    if df_train['home_team_before_rank'][i] in ['1位', '2位', '3位']:\n",
        "        if df_train['away_team_before_rank'][i] in ['1位', '2位', '3位']:\n",
        "            df_train['残留争い'][i] = 1\n",
        "\n",
        "for i in range(len(df_test)):\n",
        "    if df_test['home_team_before_rank'][i] in ['18位', '17位', '16位']:\n",
        "        if df_test['away_team_before_rank'][i] in ['1位', '2位', '3位']:\n",
        "            df_test['残留争い'][i] = 1"
      ]
    },
    {
      "cell_type": "markdown",
      "id": "b74e8e52",
      "metadata": {
        "id": "b74e8e52"
      },
      "source": [
        "## 試合直前の順位差"
      ]
    },
    {
      "cell_type": "code",
      "execution_count": null,
      "id": "9f7a0485",
      "metadata": {
        "id": "9f7a0485"
      },
      "outputs": [],
      "source": [
        "def replace_if_starts_with_before(value):\n",
        "    if isinstance(value, str) and value.startswith('前'):\n",
        "        return '開幕戦'\n",
        "    elif isinstance(value, str) and value.startswith('J'):\n",
        "        return '開幕戦'\n",
        "    else:\n",
        "        return value\n",
        "\n",
        "df_train['home_team_before_rank'] = df_train['home_team_before_rank'].apply(replace_if_starts_with_before)\n",
        "df_train['away_team_before_rank'] = df_train['away_team_before_rank'].apply(replace_if_starts_with_before)\n",
        "df_test['home_team_before_rank'] = df_test['home_team_before_rank'].apply(replace_if_starts_with_before)\n",
        "df_test['away_team_before_rank'] = df_test['away_team_before_rank'].apply(replace_if_starts_with_before)"
      ]
    },
    {
      "cell_type": "code",
      "execution_count": null,
      "id": "21cb0ee9",
      "metadata": {
        "id": "21cb0ee9"
      },
      "outputs": [],
      "source": [
        "df_train['diff_rank'] = 0\n",
        "df_test['diff_rank'] = 0\n",
        "\n",
        "for i in range(len(df_train)):\n",
        "    if not df_train['home_team_before_rank'][i] == 'データなし':\n",
        "        if df_train['home_team_before_rank'][i] == '開幕戦' or df_train['away_team_before_rank'][i] == '開幕戦':\n",
        "            df_train['diff_rank'][i] = 0\n",
        "        elif df_train['away_team_before_rank'][i] == '開幕戦':\n",
        "            df_train['diff_rank'][i] = 0\n",
        "        else:\n",
        "            df_train['diff_rank'][i] = int(df_train['home_team_before_rank'][i][:-1]) - int(df_train['away_team_before_rank'][i][:-1])\n",
        "\n",
        "for i in range(len(df_test)):\n",
        "    if not df_train['home_team_before_rank'][i] == 'データなし':\n",
        "        if df_test['home_team_before_rank'][i] == '開幕戦':\n",
        "            df_test['diff_rank'][i] = 0\n",
        "        elif df_test['away_team_before_rank'][i] == '開幕戦':\n",
        "            df_test['diff_rank'][i] = 0\n",
        "        else:\n",
        "            df_test['diff_rank'][i] = int(df_test['home_team_before_rank'][i][:-1]) - int(df_test['away_team_before_rank'][i][:-1])"
      ]
    },
    {
      "cell_type": "code",
      "execution_count": null,
      "id": "24864485",
      "metadata": {
        "id": "24864485"
      },
      "outputs": [],
      "source": [
        "df_train['diff_rankの絶対値'] = 0\n",
        "df_train['diff_rankの絶対値'] = abs(df_train['diff_rank'])\n",
        "df_test['diff_rankの絶対値'] = 0\n",
        "df_test['diff_rankの絶対値'] = abs(df_test['diff_rank'])"
      ]
    },
    {
      "cell_type": "markdown",
      "id": "c73f2f22",
      "metadata": {
        "id": "c73f2f22"
      },
      "source": [
        "## 有名人枠（フォルラン、イニエスタ）"
      ]
    },
    {
      "cell_type": "code",
      "execution_count": null,
      "id": "e42fa1f6",
      "metadata": {
        "id": "e42fa1f6"
      },
      "outputs": [],
      "source": [
        "home_columns = [f'home_team_player{i}' for i in range(1, 12)]\n",
        "away_columns = [f'away_team_player{i}' for i in range(1, 12)]\n",
        "\n",
        "def contains_famous_player(row):\n",
        "    famous_players = ['フォルラン', 'アンドレスイニエスタ', 'ダビドビジャ']\n",
        "    return any(player in famous_players for player in row[home_columns + away_columns])\n",
        "\n",
        "df_train['famous_player'] = df_train.apply(contains_famous_player, axis=1).astype(int)\n",
        "df_test['famous_player'] = df_test.apply(contains_famous_player, axis=1).astype(int)"
      ]
    },
    {
      "cell_type": "markdown",
      "id": "503cc3a7",
      "metadata": {
        "id": "503cc3a7"
      },
      "source": [
        "## ホームチームとアウェイチームが同じ県かどうか"
      ]
    },
    {
      "cell_type": "code",
      "execution_count": null,
      "id": "2de4f8a3",
      "metadata": {
        "scrolled": true,
        "id": "2de4f8a3"
      },
      "outputs": [],
      "source": [
        "def sameprefecture(df):\n",
        "    same_prefecture = []\n",
        "    for i in range(len(df)):\n",
        "        same_prefecture.append(1)\n",
        "        df['same_prefecture'] = 0\n",
        "\n",
        "    for i in range(len(df)):\n",
        "        if df['home_team'][i] == 'G大阪':\n",
        "            if df['away_team'][i] == 'C大阪':\n",
        "                df['same_prefecture'][i] = 1\n",
        "        elif df['home_team'][i] == 'C大阪':\n",
        "            if df['away_team'][i] == 'G大阪':\n",
        "                df['same_prefecture'][i] = 1\n",
        "        elif df['home_team'][i] == 'FC東京':\n",
        "            if df['away_team'][i] == '東京V':\n",
        "                df['same_prefecture'][i] = 1\n",
        "        elif df['home_team'][i] == '東京V':\n",
        "            if df['away_team'][i] == 'FC東京':\n",
        "                df['same_prefecture'][i] = 1\n",
        "        elif df['home_team'][i] == '磐田':\n",
        "            if df['away_team'][i] == '清水':\n",
        "                df['same_prefecture'][i] = 1\n",
        "        elif df['home_team'][i] == '清水':\n",
        "            if df['away_team'][i] == '磐田':\n",
        "                df['same_prefecture'][i] = 1\n",
        "        elif df['home_team'][i] == '大宮':\n",
        "            if df['away_team'][i] == '浦和':\n",
        "                df['same_prefecture'][i] = 1\n",
        "        elif df['home_team'][i] == '浦和':\n",
        "            if df['away_team'][i] == '大宮':\n",
        "                df['same_prefecture'][i] = 1\n",
        "        elif df['home_team'][i] == '柏':\n",
        "            if df['away_team'][i] == '千葉':\n",
        "                df['same_prefecture'][i] = 1\n",
        "        elif df['home_team'][i] == '千葉':\n",
        "            if df['away_team'][i] == '柏':\n",
        "                df['same_prefecture'][i] = 1\n",
        "        elif df['home_team'][i] == '川崎F':\n",
        "            if df['away_team'][i] in ['横浜FM', '横浜FC', '湘南']:\n",
        "                df['same_prefecture'][i] = 1\n",
        "        elif df['home_team'][i] == '横浜FM':\n",
        "            if df['away_team'][i] in ['川崎F', '横浜FC', '湘南']:\n",
        "                df['same_prefecture'][i] = 1\n",
        "        elif df['home_team'][i] == '横浜FC':\n",
        "            if df['away_team'][i] in ['川崎F', '横浜FM', '湘南']:\n",
        "                df['same_prefecture'][i] = 1\n",
        "        elif df['home_team'][i] == '湘南':\n",
        "            if df['away_team'][i] in ['川崎F', '横浜FC', '横浜FM']:\n",
        "                df['same_prefecture'][i] = 1\n",
        "\n",
        "    return df\n",
        "\n",
        "df_train = sameprefecture(df_train)\n",
        "df_test = sameprefecture(df_test)"
      ]
    },
    {
      "cell_type": "markdown",
      "id": "f5792c73",
      "metadata": {
        "id": "f5792c73"
      },
      "source": [
        "## ホームとアウェーの距離"
      ]
    },
    {
      "cell_type": "code",
      "execution_count": null,
      "id": "b7fcf252",
      "metadata": {
        "id": "b7fcf252"
      },
      "outputs": [],
      "source": [
        "train_team_venue_map = (\n",
        "    df_train.groupby('home_team')['venue']\n",
        "    .agg(lambda x: x.value_counts().idxmax())\n",
        "    .reset_index()\n",
        ")\n",
        "train_team_venue_map.columns = ['home_team', 'most_common_venue']\n",
        "\n",
        "test_team_venue_map = (\n",
        "    df_test.groupby('home_team')['venue']\n",
        "    .agg(lambda x: x.value_counts().idxmax())\n",
        "    .reset_index()\n",
        ")\n",
        "test_team_venue_map.columns = ['home_team', 'most_common_venue']\n",
        "\n",
        "new_teams = test_team_venue_map[~test_team_venue_map['home_team'].isin(train_team_venue_map['home_team'])]\n",
        "\n",
        "combined_team_venue_map = pd.concat([train_team_venue_map, new_teams]).reset_index(drop=True)\n",
        "\n",
        "combined_with_venue_info = pd.merge(\n",
        "    combined_team_venue_map, df_venue,\n",
        "    how='left',\n",
        "    left_on='most_common_venue',\n",
        "    right_on='venue'\n",
        ")\n",
        "combined_with_venue_info = combined_with_venue_info.drop(columns=['venue'])\n",
        "combined_with_venue_info = combined_with_venue_info.rename(columns={'home_team': 'away_team', 'most_common_venue': 'away_venue'})"
      ]
    },
    {
      "cell_type": "code",
      "execution_count": null,
      "id": "642d9d09",
      "metadata": {
        "id": "642d9d09"
      },
      "outputs": [],
      "source": [
        "combined_with_venue_info[['latitude', 'longitude']] = 0, 0"
      ]
    },
    {
      "cell_type": "code",
      "execution_count": null,
      "id": "b53ac4c5",
      "metadata": {
        "id": "b53ac4c5"
      },
      "outputs": [],
      "source": [
        "geo = Nominatim(user_agent=\"myapp\")\n",
        "\n",
        "for index, row in combined_with_venue_info.iterrows():\n",
        "    location = geo.geocode(row['away_venue'])\n",
        "    if location:\n",
        "        combined_with_venue_info.loc[index, 'latitude'] = location.latitude\n",
        "        combined_with_venue_info.loc[index, 'longitude'] = location.longitude\n",
        "    else:\n",
        "        location = geo.geocode(row['address'])\n",
        "        if location:\n",
        "            combined_with_venue_info.loc[index, 'latitude'] = location.latitude\n",
        "            combined_with_venue_info.loc[index, 'longitude'] = location.longitude\n",
        "        else:\n",
        "            combined_with_venue_info.loc[index, 'latitude'] = None\n",
        "            combined_with_venue_info.loc[index, 'longitude'] = None"
      ]
    },
    {
      "cell_type": "code",
      "execution_count": null,
      "id": "aeab45a9",
      "metadata": {
        "id": "aeab45a9"
      },
      "outputs": [],
      "source": [
        "location = geo.geocode(\"徳島県鳴門市撫養町立岩\")\n",
        "combined_with_venue_info.at[10, 'latitude'] = location.latitude\n",
        "combined_with_venue_info.at[10, 'longitude'] = location.longitude\n",
        "\n",
        "location = geo.geocode(\"長野県松本市神林\")\n",
        "combined_with_venue_info.at[14, 'latitude'] = location.latitude\n",
        "combined_with_venue_info.at[14, 'longitude'] = location.longitude\n",
        "\n",
        "location = geo.geocode(\"日立柏サッカー場\")\n",
        "combined_with_venue_info.at[15, 'latitude'] = location.latitude\n",
        "combined_with_venue_info.at[15, 'longitude'] = location.longitude\n",
        "\n",
        "location = geo.geocode(\"神奈川県横浜市神奈川区\")\n",
        "combined_with_venue_info.at[16, 'latitude'] = location.latitude\n",
        "combined_with_venue_info.at[16, 'longitude'] = location.longitude\n",
        "\n",
        "location = geo.geocode(\"神奈川県平塚市大原\")\n",
        "combined_with_venue_info.at[20, 'latitude'] = location.latitude\n",
        "combined_with_venue_info.at[20, 'longitude'] = location.longitude\n",
        "\n",
        "location = geo.geocode(\"山梨県甲府市小瀬町\")\n",
        "combined_with_venue_info.at[21, 'latitude'] = location.latitude\n",
        "combined_with_venue_info.at[21, 'longitude'] = location.longitude\n",
        "\n",
        "location = geo.geocode(\"福岡県福岡市博多区東平尾公園2丁目\")\n",
        "combined_with_venue_info.at[24, 'latitude'] = location.latitude\n",
        "combined_with_venue_info.at[24, 'longitude'] = location.longitude"
      ]
    },
    {
      "cell_type": "code",
      "execution_count": null,
      "id": "7287ac3e",
      "metadata": {
        "id": "7287ac3e"
      },
      "outputs": [],
      "source": [
        "combined_with_venue_info = combined_with_venue_info.rename(columns={'away_team' : 'home_team'})\n",
        "df_train = df_train.merge(combined_with_venue_info[['home_team', 'latitude', 'longitude']], on='home_team', how='left')\n",
        "df_test = df_test.merge(combined_with_venue_info[['home_team', 'latitude', 'longitude']], on='home_team', how='left')\n",
        "df_train = df_train.rename(columns={'latitude': 'home_latitude', 'longitude': 'home_longitude'})\n",
        "df_test = df_test.rename(columns={'latitude': 'home_latitude', 'longitude': 'home_longitude'})"
      ]
    },
    {
      "cell_type": "code",
      "execution_count": null,
      "id": "14b46ded",
      "metadata": {
        "id": "14b46ded"
      },
      "outputs": [],
      "source": [
        "combined_with_venue_info = combined_with_venue_info.rename(columns={'home_team': 'away_team'})\n",
        "df_train = df_train.merge(combined_with_venue_info[['away_team', 'latitude', 'longitude']], on='away_team', how='left')\n",
        "df_test = df_test.merge(combined_with_venue_info[['away_team', 'latitude', 'longitude']], on='away_team', how='left')\n",
        "df_train = df_train.rename(columns={'latitude': 'away_latitude', 'longitude': 'away_longitude'})\n",
        "df_test = df_test.rename(columns={'latitude': 'away_latitude', 'longitude': 'away_longitude'})"
      ]
    },
    {
      "cell_type": "code",
      "execution_count": null,
      "id": "90c03db4",
      "metadata": {
        "id": "90c03db4"
      },
      "outputs": [],
      "source": [
        "def hubeny_distance(lat1, lon1, lat2, lon2):\n",
        "    \"\"\"\n",
        "    ヒュベニの公式を用いて2点間の距離を計算する関数\n",
        "\n",
        "    Parameters:\n",
        "    lat1 (float): 1点目の緯度（度）\n",
        "    lon1 (float): 1点目の経度（度）\n",
        "    lat2 (float): 2点目の緯度（度）\n",
        "    lon2 (float): 2点目の経度（度）\n",
        "\n",
        "    Returns:\n",
        "    float: 2点間の距離（メートル）\n",
        "    \"\"\"\n",
        "\n",
        "    # 楕円体のパラメータ（GRS80 / WGS84）\n",
        "    a = 6378137.0        # 赤道半径 (meters)\n",
        "    b = 6356752.314245   # 極半径 (meters)\n",
        "    f = (a - b) / a      # 扁平率\n",
        "\n",
        "    # 度をラジアンに変換\n",
        "    lat1 = math.radians(lat1)\n",
        "    lon1 = math.radians(lon1)\n",
        "    lat2 = math.radians(lat2)\n",
        "    lon2 = math.radians(lon2)\n",
        "\n",
        "    # 緯度と経度の差\n",
        "    d_lat = lat2 - lat1\n",
        "    d_lon = lon2 - lon1\n",
        "\n",
        "    # 平均緯度\n",
        "    avg_lat = (lat1 + lat2) / 2.0\n",
        "\n",
        "    # ヒュベニの公式に必要な計算\n",
        "    sin_lat = math.sin(avg_lat)\n",
        "    w = math.sqrt(1 - f * (2 - f) * sin_lat ** 2)\n",
        "    m = a * (1 - f) / (w ** 3)      # 子午線曲率半径\n",
        "    n = a / w                       # 卯酉線曲率半径\n",
        "\n",
        "    # 距離の計算\n",
        "    d_north = m * d_lat\n",
        "    d_east = n * math.cos(avg_lat) * d_lon\n",
        "    distance = math.sqrt(d_north ** 2 + d_east ** 2)\n",
        "\n",
        "    return distance"
      ]
    },
    {
      "cell_type": "code",
      "execution_count": null,
      "id": "b2517324",
      "metadata": {
        "id": "b2517324"
      },
      "outputs": [],
      "source": [
        "def calculate_distance(df):\n",
        "    df['distance'] = 0\n",
        "    for i in range(len(df)):\n",
        "        df.at[i, 'distance'] = hubeny_distance(df['home_latitude'][i], df['home_longitude'][i], df['away_latitude'][i], df['away_longitude'][i])\n",
        "    return df\n",
        "\n",
        "df_train = calculate_distance(df_train)\n",
        "df_test = calculate_distance(df_test)"
      ]
    },
    {
      "cell_type": "markdown",
      "id": "6b4ae3e2",
      "metadata": {
        "id": "6b4ae3e2"
      },
      "source": [
        "## 満席率"
      ]
    },
    {
      "cell_type": "code",
      "execution_count": null,
      "id": "70b37e9c",
      "metadata": {
        "id": "70b37e9c"
      },
      "outputs": [],
      "source": [
        "df_train['attendance_rate'] = df_train['attendance'] / df_train['capacity']"
      ]
    },
    {
      "cell_type": "markdown",
      "id": "4f8be153",
      "metadata": {
        "id": "4f8be153"
      },
      "source": [
        "# データ作成"
      ]
    },
    {
      "cell_type": "code",
      "execution_count": null,
      "id": "79c284ae",
      "metadata": {
        "id": "79c284ae"
      },
      "outputs": [],
      "source": [
        "df_train.to_csv('df_train_new.csv')\n",
        "df_test.to_csv('df_test_new.csv')"
      ]
    },
    {
      "cell_type": "code",
      "execution_count": null,
      "id": "bbd27fca",
      "metadata": {
        "id": "bbd27fca"
      },
      "outputs": [],
      "source": [
        "from sklearn.model_selection import train_test_split\n",
        "import lightgbm as lgb\n",
        "from sklearn.metrics import mean_squared_error\n",
        "from sklearn.feature_extraction.text import TfidfVectorizer\n",
        "from scipy.sparse import hstack, csr_matrix, coo_matrix\n",
        "from xgboost import XGBRegressor\n",
        "from catboost import CatBoostRegressor\n",
        "from sklearn.neural_network import MLPRegressor\n",
        "from sklearn.feature_selection import RFE\n",
        "import japanize_matplotlib\n",
        "from sklearn.feature_extraction.text import TfidfVectorizer"
      ]
    },
    {
      "cell_type": "code",
      "source": [
        "df_train = pd.read_csv('df_train.csv')\n",
        "df_test = pd.read_csv('df_test.csv')\n",
        "submit = pd.read_csv('submit.csv', header=None)"
      ],
      "metadata": {
        "id": "cTbaUZSizzkK"
      },
      "id": "cTbaUZSizzkK",
      "execution_count": null,
      "outputs": []
    },
    {
      "cell_type": "markdown",
      "source": [
        "# 特徴量選択"
      ],
      "metadata": {
        "id": "34dywd3Fzv_x"
      },
      "id": "34dywd3Fzv_x"
    },
    {
      "cell_type": "code",
      "source": [
        "df_tr_id = df_train['id']"
      ],
      "metadata": {
        "id": "QRPvvnoOzqsh"
      },
      "id": "QRPvvnoOzqsh",
      "execution_count": null,
      "outputs": []
    },
    {
      "cell_type": "code",
      "source": [
        "df_train.columns"
      ],
      "metadata": {
        "id": "2IHg2CnVz1ry"
      },
      "id": "2IHg2CnVz1ry",
      "execution_count": null,
      "outputs": []
    },
    {
      "cell_type": "code",
      "source": [
        "df_tr = df_train.drop(['Unnamed: 0', 'id','home_team_player11', 'home_team_player10',\n",
        "       'home_team_player9','home_team_player8', 'home_team_player7', 'home_team_player6',\n",
        "       'home_team_player5', 'home_team_player4', 'home_team_player3', 'home_team_player2',\n",
        "       'home_team_player1', 'away_team_player1', 'away_team_player2', 'away_team_player3',\n",
        "       'away_team_player4', 'away_team_player5', 'away_team_player6', 'away_team_player7',\n",
        "       'away_team_player8', 'away_team_player9', 'away_team_player10', 'away_team_player11',\n",
        "       'address', 'away_address', 'dayofweek'], axis=1)"
      ],
      "metadata": {
        "id": "c2-4LNl3z2dp"
      },
      "id": "c2-4LNl3z2dp",
      "execution_count": null,
      "outputs": []
    },
    {
      "cell_type": "code",
      "source": [
        "df_capacity = df_test['capacity']\n",
        "df_test_id = df_test['id']"
      ],
      "metadata": {
        "id": "jpymTSJGz4x-"
      },
      "id": "jpymTSJGz4x-",
      "execution_count": null,
      "outputs": []
    },
    {
      "cell_type": "code",
      "source": [
        "test = df_test[['section', 'round', 'home_team_score', 'away_team_score', 'home_team',\n",
        "       'away_team', 'venue', 'weather', 'temperature', 'humidity',\n",
        "       'broadcasters', 'capacity', 'day_of_year_sin',\n",
        "       'day_of_year_cos', 'day_of_month_sin', 'day_of_month_cos',\n",
        "       'day_of_week_sin', 'day_of_week_cos', 'time_of_day_sin',\n",
        "       'time_of_day_cos', 'is_holiday', 'rest', 'holiday_streak', 'ホーム勝ち点',\n",
        "       'ホーム得失点差', 'ホーム総得点', 'アウェー勝ち点', 'アウェー得失点差', 'アウェー総得点',\n",
        "       'home_team_before_rank', 'away_team_before_rank', '勝ち点差', '勝ち点差の絶対値',\n",
        "       'diff_rank', 'diff_rankの絶対値', 'attendance_mean_section',\n",
        "       'famous_player', 'same_prefecture', 'distance']]"
      ],
      "metadata": {
        "id": "2mDWpI_Wz4vc"
      },
      "id": "2mDWpI_Wz4vc",
      "execution_count": null,
      "outputs": []
    },
    {
      "cell_type": "code",
      "source": [
        "df = pd.concat([df_tr, test], axis=0)"
      ],
      "metadata": {
        "id": "j9kL_7W1z4s8"
      },
      "id": "j9kL_7W1z4s8",
      "execution_count": null,
      "outputs": []
    },
    {
      "cell_type": "code",
      "source": [
        "df['distance'] = df['distance'].astype(int)"
      ],
      "metadata": {
        "id": "4mPZQxrHz4qm"
      },
      "id": "4mPZQxrHz4qm",
      "execution_count": null,
      "outputs": []
    },
    {
      "cell_type": "code",
      "source": [
        "df = pd.get_dummies(df, dtype=int, drop_first=True)"
      ],
      "metadata": {
        "id": "IV3eaGyMz4mX"
      },
      "id": "IV3eaGyMz4mX",
      "execution_count": null,
      "outputs": []
    },
    {
      "cell_type": "code",
      "source": [
        "def convert_feature_names(df):\n",
        "    new_columns = []\n",
        "    for col in df.columns:\n",
        "        new_col = re.sub('[^\\w]', '_', col)\n",
        "        new_columns.append(new_col)\n",
        "    df.columns = new_columns\n",
        "    return df\n",
        "\n",
        "df = convert_feature_names(df)"
      ],
      "metadata": {
        "id": "tuKOYXwAz4j7"
      },
      "id": "tuKOYXwAz4j7",
      "execution_count": null,
      "outputs": []
    },
    {
      "cell_type": "code",
      "source": [
        "train_df = df.iloc[:3661,:]\n",
        "test_df = df.iloc[3661:,:]"
      ],
      "metadata": {
        "id": "rFhM72Tlz4hs"
      },
      "id": "rFhM72Tlz4hs",
      "execution_count": null,
      "outputs": []
    },
    {
      "cell_type": "markdown",
      "source": [
        "# 訓練"
      ],
      "metadata": {
        "id": "SuGbkoaG0Cz5"
      },
      "id": "SuGbkoaG0Cz5"
    },
    {
      "cell_type": "code",
      "source": [
        "X = train_df.drop(['attendance', 'capacity', 'attendance_rate'], axis=1)\n",
        "y = train_df[['attendance', 'capacity', 'attendance_rate']]\n",
        "y = pd.concat([df_tr_id, y], axis=1)\n",
        "\n",
        "X_train, X_test, y_train, y_test = train_test_split(X, y, test_size=0.4, random_state=42)"
      ],
      "metadata": {
        "id": "vFtP5PGkz4fU"
      },
      "id": "vFtP5PGkz4fU",
      "execution_count": null,
      "outputs": []
    },
    {
      "cell_type": "markdown",
      "source": [
        "## LightGBM"
      ],
      "metadata": {
        "id": "a5R0jmAf0FBB"
      },
      "id": "a5R0jmAf0FBB"
    },
    {
      "cell_type": "code",
      "source": [
        "max_estimators = 10000\n",
        "early_stopping_limit = 100\n",
        "\n",
        "params = {\n",
        "    'n_estimators': max_estimators,\n",
        "    'max_depth': 32,\n",
        "    'subsample': 0.8,\n",
        "    'colsample_bytree': 0.8,\n",
        "    'objective': 'regression',\n",
        "    'metric': 'rmse',\n",
        "    'random_state': 42,\n",
        "    'learning_rate': 0.004,\n",
        "    'verbose': -1\n",
        "}\n",
        "\n",
        "model_lgb = lgb.LGBMRegressor(**params)\n",
        "\n",
        "def callback(env):\n",
        "    if env.iteration % 10 == 0:\n",
        "        print(\"Iteration:\", env.iteration, \"\\tRMSE:\", env.evaluation_result_list[0][2])\n",
        "\n",
        "model_lgb.fit(\n",
        "    X_train, y_train['attendance_rate'],\n",
        "    eval_set=[(X_test, y_test['attendance_rate'])],\n",
        "    eval_metric='rmse',\n",
        "    callbacks=[lgb.early_stopping(stopping_rounds=early_stopping_limit), callback]\n",
        ")"
      ],
      "metadata": {
        "id": "7A236_pnz4c8"
      },
      "id": "7A236_pnz4c8",
      "execution_count": null,
      "outputs": []
    },
    {
      "cell_type": "code",
      "source": [
        "y_pred_lgb = model_lgb.predict(X_test)\n",
        "y_test = y_test.reset_index(drop=True)\n",
        "for i in range(len(y_pred_lgb)):\n",
        "    y_pred_lgb[i] = y_pred_lgb[i] * y_test['capacity'][i]\n",
        "\n",
        "print('Test RMSE: %.3f' % np.sqrt(mean_squared_error(y_test['attendance'], y_pred_lgb)))"
      ],
      "metadata": {
        "id": "_1CpZxO2z4NF"
      },
      "id": "_1CpZxO2z4NF",
      "execution_count": null,
      "outputs": []
    },
    {
      "cell_type": "code",
      "source": [
        "plt.scatter(y_test['attendance'], y_pred_lgb)\n",
        "plt.plot([0,60000], [0,60000], color='red')\n",
        "plt.xlabel(\"measured_value\")\n",
        "plt.ylabel(\"predict_value\")\n",
        "plt.gca().set_aspect('equal', adjustable='box')\n",
        "plt.show()"
      ],
      "metadata": {
        "id": "ZImK-vHF0Pm6"
      },
      "id": "ZImK-vHF0Pm6",
      "execution_count": null,
      "outputs": []
    },
    {
      "cell_type": "markdown",
      "source": [
        "## XGBoost\n",
        "\n"
      ],
      "metadata": {
        "id": "vUdCxuiU0E0l"
      },
      "id": "vUdCxuiU0E0l"
    },
    {
      "cell_type": "code",
      "source": [
        "model_XGB = XGBRegressor(n_estimators=1000, learning_rate=0.05)\n",
        "model_XGB.fit(X_train, y_train['attendance_rate'], early_stopping_rounds=100,\n",
        "             eval_set=[(X_test, y_test['attendance_rate'])], verbose=False)"
      ],
      "metadata": {
        "id": "vA8a7jKz0QwU"
      },
      "id": "vA8a7jKz0QwU",
      "execution_count": null,
      "outputs": []
    },
    {
      "cell_type": "code",
      "source": [
        "y_pred_XGB = model_XGB.predict(X_test)\n",
        "for i in range(len(y_pred_XGB)):\n",
        "    y_pred_XGB[i] = y_pred_XGB[i] * y_test['capacity'][i]\n",
        "\n",
        "print('Test RMSE: %.3f' % np.sqrt(mean_squared_error(y_test['attendance'], y_pred_XGB)))"
      ],
      "metadata": {
        "id": "CtH5dvkO0Qtz"
      },
      "id": "CtH5dvkO0Qtz",
      "execution_count": null,
      "outputs": []
    },
    {
      "cell_type": "code",
      "source": [
        "plt.scatter(y_test['attendance'], y_pred_XGB)\n",
        "plt.plot([0,60000], [0,60000], color='red')\n",
        "plt.xlabel(\"measured_value\")\n",
        "plt.ylabel(\"predict_value\")\n",
        "plt.gca().set_aspect('equal', adjustable='box')\n",
        "plt.show()"
      ],
      "metadata": {
        "id": "MH264jha0XHy"
      },
      "id": "MH264jha0XHy",
      "execution_count": null,
      "outputs": []
    },
    {
      "cell_type": "markdown",
      "source": [
        "## CatBoost"
      ],
      "metadata": {
        "id": "-RwGqqGN0Z9k"
      },
      "id": "-RwGqqGN0Z9k"
    },
    {
      "cell_type": "code",
      "source": [
        "model_CatBoost = CatBoostRegressor(iterations=100000,\n",
        "                          learning_rate=0.004,\n",
        "                          depth=5,\n",
        "                          eval_metric='RMSE',\n",
        "                          colsample_bylevel=0.8,\n",
        "                          random_seed = 42,\n",
        "                          bagging_temperature = 0.2,\n",
        "                          metric_period = None,\n",
        "                          early_stopping_rounds=200\n",
        "                                )\n",
        "model_CatBoost.fit(X_train, y_train['attendance_rate'],eval_set=(X_test, y_test['attendance_rate']),use_best_model=True,verbose=False)"
      ],
      "metadata": {
        "id": "lqPG912d0Zn-"
      },
      "id": "lqPG912d0Zn-",
      "execution_count": null,
      "outputs": []
    },
    {
      "cell_type": "code",
      "source": [
        "y_pred_CatBoost = model_CatBoost.predict(X_test)\n",
        "for i in range(len(y_pred_CatBoost)):\n",
        "    y_pred_CatBoost[i] = y_pred_CatBoost[i] * y_test['capacity'][i]\n",
        "\n",
        "print('Test RMSE: %.3f' % np.sqrt(mean_squared_error(y_test['attendance'], y_pred_CatBoost)))"
      ],
      "metadata": {
        "id": "DpOmXxfP0Qny"
      },
      "id": "DpOmXxfP0Qny",
      "execution_count": null,
      "outputs": []
    },
    {
      "cell_type": "code",
      "source": [
        "plt.scatter(y_test['attendance'], y_pred_CatBoost)\n",
        "plt.plot([0,60000], [0,60000], color='red')\n",
        "plt.xlabel(\"measured_value\")\n",
        "plt.ylabel(\"predict_value\")\n",
        "plt.gca().set_aspect('equal', adjustable='box')\n",
        "plt.show()"
      ],
      "metadata": {
        "id": "3tki0hsr0fKW"
      },
      "id": "3tki0hsr0fKW",
      "execution_count": null,
      "outputs": []
    },
    {
      "cell_type": "markdown",
      "source": [
        "# 提出"
      ],
      "metadata": {
        "id": "RG8DbSIV0f4g"
      },
      "id": "RG8DbSIV0f4g"
    },
    {
      "cell_type": "code",
      "source": [
        "capa = df_capacity\n",
        "test_df = test_df.drop(['attendance', 'attendance_rate', 'capacity'], axis=1)"
      ],
      "metadata": {
        "id": "ZChTdTDk0gJS"
      },
      "id": "ZChTdTDk0gJS",
      "execution_count": null,
      "outputs": []
    },
    {
      "cell_type": "code",
      "source": [
        "pred = model_CatBoost.predict(test_df)\n",
        "for i in range(len(submit)):\n",
        "    submit[1][i] = pred[i] * capa[i]\n",
        "submit = submit.astype('int')\n",
        "submit"
      ],
      "metadata": {
        "id": "VdqJ4Bqm0kBj"
      },
      "id": "VdqJ4Bqm0kBj",
      "execution_count": null,
      "outputs": []
    },
    {
      "cell_type": "code",
      "source": [
        "submit.to_csv('submit.csv', header=False, index=False)"
      ],
      "metadata": {
        "id": "OCBSaEqD0lBE"
      },
      "id": "OCBSaEqD0lBE",
      "execution_count": null,
      "outputs": []
    }
  ],
  "metadata": {
    "kernelspec": {
      "display_name": "Python 3 (ipykernel)",
      "language": "python",
      "name": "python3"
    },
    "language_info": {
      "codemirror_mode": {
        "name": "ipython",
        "version": 3
      },
      "file_extension": ".py",
      "mimetype": "text/x-python",
      "name": "python",
      "nbconvert_exporter": "python",
      "pygments_lexer": "ipython3",
      "version": "3.10.9"
    },
    "colab": {
      "provenance": []
    }
  },
  "nbformat": 4,
  "nbformat_minor": 5
}